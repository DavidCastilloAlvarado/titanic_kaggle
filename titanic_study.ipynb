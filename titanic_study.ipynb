{
 "cells": [
  {
   "cell_type": "markdown",
   "metadata": {
    "id": "qGbqGCfDNrgP"
   },
   "source": [
    "!kaggle competitions download -c titanic"
   ]
  },
  {
   "cell_type": "code",
   "execution_count": 1,
   "metadata": {
    "colab": {
     "base_uri": "https://localhost:8080/"
    },
    "executionInfo": {
     "elapsed": 1123,
     "status": "ok",
     "timestamp": 1609891543349,
     "user": {
      "displayName": "David Castillo",
      "photoUrl": "https://lh3.googleusercontent.com/a-/AOh14Gg5XtOH3psM7ovC3D5p28SlHs4XVyU8gb-DXTurmF8=s64",
      "userId": "09801156893445499453"
     },
     "user_tz": 300
    },
    "id": "msLchjEwN9qu",
    "outputId": "788a277f-c3a2-4a37-d327-7579866e189d"
   },
   "outputs": [
    {
     "name": "stdout",
     "output_type": "stream",
     "text": [
      "Drive already mounted at /gdrive; to attempt to forcibly remount, call drive.mount(\"/gdrive\", force_remount=True).\n",
      "/gdrive/MyDrive/Kaggle/titanic/titanic_kaggle\n"
     ]
    }
   ],
   "source": [
    "from google.colab import drive\r\n",
    "drive.mount('/gdrive')\r\n",
    "%cd ../gdrive/MyDrive/Kaggle/titanic/titanic_kaggle"
   ]
  },
  {
   "cell_type": "code",
   "execution_count": 2,
   "metadata": {
    "colab": {
     "base_uri": "https://localhost:8080/"
    },
    "executionInfo": {
     "elapsed": 1096,
     "status": "ok",
     "timestamp": 1609891543990,
     "user": {
      "displayName": "David Castillo",
      "photoUrl": "https://lh3.googleusercontent.com/a-/AOh14Gg5XtOH3psM7ovC3D5p28SlHs4XVyU8gb-DXTurmF8=s64",
      "userId": "09801156893445499453"
     },
     "user_tz": 300
    },
    "id": "Pfjw7Y_gPMzp",
    "outputId": "72d03066-eaac-4b61-eb97-1dcf696f1d20"
   },
   "outputs": [
    {
     "name": "stdout",
     "output_type": "stream",
     "text": [
      "dataset       img      process_data.py\tREADME.md\n",
      "gitupload.sh  LICENSE  __pycache__\ttitanic_study.ipynb\n"
     ]
    }
   ],
   "source": [
    "!ls"
   ]
  },
  {
   "cell_type": "markdown",
   "metadata": {
    "id": "uOeaOLwiNrgW"
   },
   "source": [
    "# Background\n",
    "Understand the relationship between the circuntances and the outcome, that finished the life of 549 human lifes. What characterized to the people, why they survived and what factors pushed his probabilities to survive are the main question that i going to review in this notebook."
   ]
  },
  {
   "cell_type": "markdown",
   "metadata": {
    "id": "toXgObe5NrgW"
   },
   "source": [
    "## Project Planning\n",
    "    * bonus automatic EDA\n",
    "\n",
    "* Understand the data behavior <p>\n",
    "  1 Histograms<p>\n",
    "  2 Value counts <p>\n",
    "  3 Missing data<p>\n",
    "  4 correlations of some features\n",
    "* Explore interesting themes <p>\n",
    "  1 Rich people survive more?<p>\n",
    "  2 Female survive more?, what about kids and old people<p>\n",
    "  3 How the fare payment affects the survival<p>\n",
    "  4 Your title name affects your chances to survive<p>\n",
    "  5 Where did you embarked affects your chance to survive<p>\n",
    "* Feature Engineering\n",
    "    * Create more features\n",
    "    * Fill nan values\n",
    "    * Normalize data\n",
    "    * Try to categorize data and see what happened ¿is good?\n",
    "* Preprocess data for numerical and categorical data\n",
    "* Understand the limitations of the data – imbalance data\n",
    "* Model tunning\n",
    "* Model benchmark"
   ]
  },
  {
   "cell_type": "markdown",
   "metadata": {
    "id": "NlAAVSvcNrgX"
   },
   "source": [
    "# Type of data\n",
    "\n",
    "### 1 Numerical Data\n",
    "* Histograms to understand distributions\n",
    "* Correlations plot\n",
    "* Pivot tables comparing survival rates\n",
    "\n",
    "### 2 Categorical Data\n",
    "* Made barchars to understand balance between classes\n",
    "* Made pivot tables to understand relationship with survival"
   ]
  },
  {
   "cell_type": "code",
   "execution_count": null,
   "metadata": {
    "id": "4i7w_zfQPDw4"
   },
   "outputs": [],
   "source": [
    "!pip install autoviz"
   ]
  },
  {
   "cell_type": "code",
   "execution_count": 5,
   "metadata": {
    "colab": {
     "base_uri": "https://localhost:8080/"
    },
    "executionInfo": {
     "elapsed": 6714,
     "status": "ok",
     "timestamp": 1609891552009,
     "user": {
      "displayName": "David Castillo",
      "photoUrl": "https://lh3.googleusercontent.com/a-/AOh14Gg5XtOH3psM7ovC3D5p28SlHs4XVyU8gb-DXTurmF8=s64",
      "userId": "09801156893445499453"
     },
     "user_tz": 300
    },
    "id": "xchaodmsNrgX",
    "outputId": "6508d3e2-c227-4c71-a546-2c2deca3f3a5"
   },
   "outputs": [
    {
     "name": "stdout",
     "output_type": "stream",
     "text": [
      "Imported AutoViz_Class version: 0.0.68. Call using: \n",
      "    from autoviz.AutoViz_Class import AutoViz_Class\n",
      "    AV = AutoViz_Class()\n",
      "    AutoViz(filename, sep=',', depVar='', dfte=None, header=0, verbose=0,\n",
      "                            lowess=False,chart_format='svg',max_rows_analyzed=150000,max_cols_analyzed=30)\n",
      "            \n",
      "To remove previous versions, perform 'pip uninstall autoviz'\n"
     ]
    }
   ],
   "source": [
    "from process_data import pre_process_dataset, balancingClasses_Smoteenn, balancingClasses_Smote\n",
    "\n",
    "import tensorflow as tf\n",
    "import pandas as pd\n",
    "import numpy as np\n",
    "import matplotlib.pyplot as plt\n",
    "from pylab import rcParams\n",
    "import random\n",
    "import time\n",
    "from tqdm import tqdm\n",
    "import IPython.display as ipd\n",
    "import seaborn as sns\n",
    "import itertools\n",
    "from xgboost.sklearn import XGBClassifier\n",
    "from sklearn.model_selection import train_test_split, GridSearchCV , RandomizedSearchCV\n",
    "from imblearn.ensemble import BalancedBaggingClassifier\n",
    "from sklearn.ensemble import RandomForestClassifier, VotingClassifier,AdaBoostClassifier,GradientBoostingClassifier, StackingClassifier\n",
    "from sklearn.model_selection import StratifiedKFold, KFold,cross_val_score\n",
    "from sklearn.gaussian_process.kernels import RBF\n",
    "from sklearn.metrics import accuracy_score,confusion_matrix\n",
    "from sklearn import svm\n",
    "from sklearn.decomposition import PCA\n",
    "from sklearn.neighbors import NeighborhoodComponentsAnalysis as NCA\n",
    "from sklearn.neighbors import KNeighborsClassifier as KNC\n",
    "from IPython.display import display # display from IPython.display\n",
    "import pandas_profiling # library for automatic EDA # pip install pandas-profiling[notebook]\n",
    "from autoviz.AutoViz_Class import AutoViz_Class\n",
    "\n",
    "%matplotlib inline\n",
    "def plot_confusion_matrix(y_true, y_pred, class_names,title=\"Confusion matrix\",normalize=False,onehot = False, size=4):\n",
    "    \"\"\"\n",
    "    Returns a matplotlib figure containing the plotted confusion matrix.\n",
    "\n",
    "    Args:\n",
    "    cm (array, shape = [n, n]): a confusion matrix of integer classes\n",
    "    class_names (array, shape = [n]): String names of the integer classes\n",
    "    \"\"\"\n",
    "    if onehot :\n",
    "        cm = confusion_matrix([y_i.argmax() for y_i in y_true], [y_ip.argmax() for y_ip in y_pred])\n",
    "    else:\n",
    "        cm = confusion_matrix(y_true, y_pred)\n",
    "    figure = plt.figure(figsize=(size, size))\n",
    "    plt.imshow(cm, interpolation='nearest', cmap=plt.cm.Blues)\n",
    "    plt.title(title)\n",
    "    plt.colorbar()\n",
    "    tick_marks = np.arange(len(class_names))\n",
    "    plt.xticks(tick_marks, class_names, rotation=45)\n",
    "    plt.yticks(tick_marks, class_names)\n",
    "\n",
    "    # Normalize the confusion matrix.\n",
    "    cm = np.around(cm.astype('float') / cm.sum(axis=1)[:, np.newaxis], decimals=2) if normalize else cm\n",
    "\n",
    "    # Use white text if squares are dark; otherwise black.\n",
    "    threshold = cm.max() / 2.\n",
    "    for i, j in itertools.product(range(cm.shape[0]), range(cm.shape[1])):\n",
    "        color = \"red\" if cm[i, j] > threshold else \"black\"\n",
    "        plt.text(j, i, cm[i, j], horizontalalignment=\"center\", color=color)\n",
    "\n",
    "    plt.tight_layout()\n",
    "    plt.ylabel('True label')\n",
    "    plt.xlabel('Predicted label')\n",
    "    plt.show()\n",
    "    #return figure"
   ]
  },
  {
   "cell_type": "code",
   "execution_count": 2,
   "metadata": {
    "colab": {
     "base_uri": "https://localhost:8080/",
     "height": 237
    },
    "executionInfo": {
     "elapsed": 2991,
     "status": "ok",
     "timestamp": 1609891552015,
     "user": {
      "displayName": "David Castillo",
      "photoUrl": "https://lh3.googleusercontent.com/a-/AOh14Gg5XtOH3psM7ovC3D5p28SlHs4XVyU8gb-DXTurmF8=s64",
      "userId": "09801156893445499453"
     },
     "user_tz": 300
    },
    "id": "sY8Qgli0NrgZ",
    "outputId": "3df376bc-6d03-42c4-aa0a-02038fba3f18"
   },
   "outputs": [
    {
     "data": {
      "text/html": [
       "<div>\n",
       "<style scoped>\n",
       "    .dataframe tbody tr th:only-of-type {\n",
       "        vertical-align: middle;\n",
       "    }\n",
       "\n",
       "    .dataframe tbody tr th {\n",
       "        vertical-align: top;\n",
       "    }\n",
       "\n",
       "    .dataframe thead th {\n",
       "        text-align: right;\n",
       "    }\n",
       "</style>\n",
       "<table border=\"1\" class=\"dataframe\">\n",
       "  <thead>\n",
       "    <tr style=\"text-align: right;\">\n",
       "      <th></th>\n",
       "      <th>PassengerId</th>\n",
       "      <th>Survived</th>\n",
       "      <th>Pclass</th>\n",
       "      <th>Name</th>\n",
       "      <th>Sex</th>\n",
       "      <th>Age</th>\n",
       "      <th>SibSp</th>\n",
       "      <th>Parch</th>\n",
       "      <th>Ticket</th>\n",
       "      <th>Fare</th>\n",
       "      <th>Cabin</th>\n",
       "      <th>Embarked</th>\n",
       "    </tr>\n",
       "  </thead>\n",
       "  <tbody>\n",
       "    <tr>\n",
       "      <th>0</th>\n",
       "      <td>1</td>\n",
       "      <td>0</td>\n",
       "      <td>3</td>\n",
       "      <td>Braund, Mr. Owen Harris</td>\n",
       "      <td>male</td>\n",
       "      <td>22.0</td>\n",
       "      <td>1</td>\n",
       "      <td>0</td>\n",
       "      <td>A/5 21171</td>\n",
       "      <td>7.2500</td>\n",
       "      <td>NaN</td>\n",
       "      <td>S</td>\n",
       "    </tr>\n",
       "    <tr>\n",
       "      <th>1</th>\n",
       "      <td>2</td>\n",
       "      <td>1</td>\n",
       "      <td>1</td>\n",
       "      <td>Cumings, Mrs. John Bradley (Florence Briggs Th...</td>\n",
       "      <td>female</td>\n",
       "      <td>38.0</td>\n",
       "      <td>1</td>\n",
       "      <td>0</td>\n",
       "      <td>PC 17599</td>\n",
       "      <td>71.2833</td>\n",
       "      <td>C85</td>\n",
       "      <td>C</td>\n",
       "    </tr>\n",
       "    <tr>\n",
       "      <th>2</th>\n",
       "      <td>3</td>\n",
       "      <td>1</td>\n",
       "      <td>3</td>\n",
       "      <td>Heikkinen, Miss. Laina</td>\n",
       "      <td>female</td>\n",
       "      <td>26.0</td>\n",
       "      <td>0</td>\n",
       "      <td>0</td>\n",
       "      <td>STON/O2. 3101282</td>\n",
       "      <td>7.9250</td>\n",
       "      <td>NaN</td>\n",
       "      <td>S</td>\n",
       "    </tr>\n",
       "    <tr>\n",
       "      <th>3</th>\n",
       "      <td>4</td>\n",
       "      <td>1</td>\n",
       "      <td>1</td>\n",
       "      <td>Futrelle, Mrs. Jacques Heath (Lily May Peel)</td>\n",
       "      <td>female</td>\n",
       "      <td>35.0</td>\n",
       "      <td>1</td>\n",
       "      <td>0</td>\n",
       "      <td>113803</td>\n",
       "      <td>53.1000</td>\n",
       "      <td>C123</td>\n",
       "      <td>S</td>\n",
       "    </tr>\n",
       "    <tr>\n",
       "      <th>4</th>\n",
       "      <td>5</td>\n",
       "      <td>0</td>\n",
       "      <td>3</td>\n",
       "      <td>Allen, Mr. William Henry</td>\n",
       "      <td>male</td>\n",
       "      <td>35.0</td>\n",
       "      <td>0</td>\n",
       "      <td>0</td>\n",
       "      <td>373450</td>\n",
       "      <td>8.0500</td>\n",
       "      <td>NaN</td>\n",
       "      <td>S</td>\n",
       "    </tr>\n",
       "  </tbody>\n",
       "</table>\n",
       "</div>"
      ],
      "text/plain": [
       "   PassengerId  Survived  Pclass  \\\n",
       "0            1         0       3   \n",
       "1            2         1       1   \n",
       "2            3         1       3   \n",
       "3            4         1       1   \n",
       "4            5         0       3   \n",
       "\n",
       "                                                Name     Sex   Age  SibSp  \\\n",
       "0                            Braund, Mr. Owen Harris    male  22.0      1   \n",
       "1  Cumings, Mrs. John Bradley (Florence Briggs Th...  female  38.0      1   \n",
       "2                             Heikkinen, Miss. Laina  female  26.0      0   \n",
       "3       Futrelle, Mrs. Jacques Heath (Lily May Peel)  female  35.0      1   \n",
       "4                           Allen, Mr. William Henry    male  35.0      0   \n",
       "\n",
       "   Parch            Ticket     Fare Cabin Embarked  \n",
       "0      0         A/5 21171   7.2500   NaN        S  \n",
       "1      0          PC 17599  71.2833   C85        C  \n",
       "2      0  STON/O2. 3101282   7.9250   NaN        S  \n",
       "3      0            113803  53.1000  C123        S  \n",
       "4      0            373450   8.0500   NaN        S  "
      ]
     },
     "execution_count": 2,
     "metadata": {},
     "output_type": "execute_result"
    }
   ],
   "source": [
    "DBtrain = pd.read_csv('dataset/train.csv')\n",
    "DBtest = pd.read_csv('dataset/test.csv')\n",
    "DBtrain.head()"
   ]
  },
  {
   "cell_type": "markdown",
   "metadata": {
    "id": "KUs9xUyINrga"
   },
   "source": [
    "# Dumb Automatic EDA"
   ]
  },
  {
   "cell_type": "markdown",
   "metadata": {
    "id": "3UMDQOdhNrgb"
   },
   "source": [
    "Plots by pandas_profiling"
   ]
  },
  {
   "cell_type": "markdown",
   "metadata": {
    "id": "tJyNDrmhNrgb"
   },
   "source": [
    "report_easy = pandas_profiling.ProfileReport(DBtrain)\n",
    "display(report_easy)"
   ]
  },
  {
   "cell_type": "markdown",
   "metadata": {
    "id": "EdTWkJGDNrgb"
   },
   "source": [
    "Let's now visualize the plots generated by AutoViz."
   ]
  },
  {
   "cell_type": "markdown",
   "metadata": {
    "id": "_Dc5xSqXNrgc"
   },
   "source": [
    "AV = AutoViz_Class()\n",
    "report_2 = AV.AutoViz(\"dataset/train.csv\")"
   ]
  },
  {
   "cell_type": "markdown",
   "metadata": {
    "id": "SJ6TojrdNrgc"
   },
   "source": [
    "# EDA\n",
    "______________________________________________"
   ]
  },
  {
   "cell_type": "markdown",
   "metadata": {
    "id": "gp7r40aPNrgc"
   },
   "source": [
    "We goint to explorate our data looking for relationships and some correlations with the survivors\n",
    "* Missing Values\n",
    "* Repeating values\n",
    "* Histogram visualization (Normal distribution)\n",
    "* Correlation into numerical data and survivors\n",
    "* Barchar to visualize categorical data, to study the relevance of every category"
   ]
  },
  {
   "cell_type": "markdown",
   "metadata": {
    "id": "0fSTlStaNrgc"
   },
   "source": [
    "###  EDA -  Missing Values\n",
    "We can see there are missing values in Age, Embarked and Cabin, but this last one, is not necessarily a missing value. Cabin means, what cabins a passenger bought, naturately not all passenger can affort a cabin.<br>\n",
    "**Procedimiento**<br>\n",
    "Fill nan values, imputing data with mean values group in Sex, Pclass and Embarked"
   ]
  },
  {
   "cell_type": "code",
   "execution_count": 6,
   "metadata": {
    "colab": {
     "base_uri": "https://localhost:8080/"
    },
    "executionInfo": {
     "elapsed": 1031,
     "status": "ok",
     "timestamp": 1609813896109,
     "user": {
      "displayName": "David Castillo",
      "photoUrl": "https://lh3.googleusercontent.com/a-/AOh14Gg5XtOH3psM7ovC3D5p28SlHs4XVyU8gb-DXTurmF8=s64",
      "userId": "09801156893445499453"
     },
     "user_tz": 300
    },
    "id": "CML2hQ0rNrgd",
    "outputId": "bec01cd7-3756-4b3d-fb8a-06561244d884"
   },
   "outputs": [
    {
     "name": "stdout",
     "output_type": "stream",
     "text": [
      "<class 'pandas.core.frame.DataFrame'>\n",
      "RangeIndex: 891 entries, 0 to 890\n",
      "Data columns (total 12 columns):\n",
      " #   Column       Non-Null Count  Dtype  \n",
      "---  ------       --------------  -----  \n",
      " 0   PassengerId  891 non-null    int64  \n",
      " 1   Survived     891 non-null    int64  \n",
      " 2   Pclass       891 non-null    int64  \n",
      " 3   Name         891 non-null    object \n",
      " 4   Sex          891 non-null    object \n",
      " 5   Age          714 non-null    float64\n",
      " 6   SibSp        891 non-null    int64  \n",
      " 7   Parch        891 non-null    int64  \n",
      " 8   Ticket       891 non-null    object \n",
      " 9   Fare         891 non-null    float64\n",
      " 10  Cabin        204 non-null    object \n",
      " 11  Embarked     889 non-null    object \n",
      "dtypes: float64(2), int64(5), object(5)\n",
      "memory usage: 83.7+ KB\n"
     ]
    }
   ],
   "source": [
    "# Numerical Data\n",
    "DBtrain.info(verbose=True)"
   ]
  },
  {
   "cell_type": "markdown",
   "metadata": {
    "id": "4pFc4wALNrgd"
   },
   "source": [
    "Here we can see that son features have high ratio of repetitive like Ticket, maybe is a bad idea analy this feature, but for the problem we are going to analyzing and see how behave.\n",
    "\n",
    "**Procedimiento**<br>\n",
    "Analizar las caracteristicas internas de Ticket, in Feature Engineering Sections\n"
   ]
  },
  {
   "cell_type": "code",
   "execution_count": 7,
   "metadata": {
    "colab": {
     "base_uri": "https://localhost:8080/",
     "height": 171
    },
    "executionInfo": {
     "elapsed": 785,
     "status": "ok",
     "timestamp": 1609813900154,
     "user": {
      "displayName": "David Castillo",
      "photoUrl": "https://lh3.googleusercontent.com/a-/AOh14Gg5XtOH3psM7ovC3D5p28SlHs4XVyU8gb-DXTurmF8=s64",
      "userId": "09801156893445499453"
     },
     "user_tz": 300
    },
    "id": "lhtPucKjNrgd",
    "outputId": "42c217ec-9020-485b-c3f6-0e092d109561"
   },
   "outputs": [
    {
     "data": {
      "text/html": [
       "<div>\n",
       "<style scoped>\n",
       "    .dataframe tbody tr th:only-of-type {\n",
       "        vertical-align: middle;\n",
       "    }\n",
       "\n",
       "    .dataframe tbody tr th {\n",
       "        vertical-align: top;\n",
       "    }\n",
       "\n",
       "    .dataframe thead th {\n",
       "        text-align: right;\n",
       "    }\n",
       "</style>\n",
       "<table border=\"1\" class=\"dataframe\">\n",
       "  <thead>\n",
       "    <tr style=\"text-align: right;\">\n",
       "      <th></th>\n",
       "      <th>Name</th>\n",
       "      <th>Sex</th>\n",
       "      <th>Ticket</th>\n",
       "      <th>Cabin</th>\n",
       "      <th>Embarked</th>\n",
       "    </tr>\n",
       "  </thead>\n",
       "  <tbody>\n",
       "    <tr>\n",
       "      <th>count</th>\n",
       "      <td>891</td>\n",
       "      <td>891</td>\n",
       "      <td>891</td>\n",
       "      <td>204</td>\n",
       "      <td>889</td>\n",
       "    </tr>\n",
       "    <tr>\n",
       "      <th>unique</th>\n",
       "      <td>891</td>\n",
       "      <td>2</td>\n",
       "      <td>681</td>\n",
       "      <td>147</td>\n",
       "      <td>3</td>\n",
       "    </tr>\n",
       "    <tr>\n",
       "      <th>top</th>\n",
       "      <td>Levy, Mr. Rene Jacques</td>\n",
       "      <td>male</td>\n",
       "      <td>CA. 2343</td>\n",
       "      <td>B96 B98</td>\n",
       "      <td>S</td>\n",
       "    </tr>\n",
       "    <tr>\n",
       "      <th>freq</th>\n",
       "      <td>1</td>\n",
       "      <td>577</td>\n",
       "      <td>7</td>\n",
       "      <td>4</td>\n",
       "      <td>644</td>\n",
       "    </tr>\n",
       "  </tbody>\n",
       "</table>\n",
       "</div>"
      ],
      "text/plain": [
       "                          Name   Sex    Ticket    Cabin Embarked\n",
       "count                      891   891       891      204      889\n",
       "unique                     891     2       681      147        3\n",
       "top     Levy, Mr. Rene Jacques  male  CA. 2343  B96 B98        S\n",
       "freq                         1   577         7        4      644"
      ]
     },
     "execution_count": 7,
     "metadata": {
      "tags": []
     },
     "output_type": "execute_result"
    }
   ],
   "source": [
    "DBtrain.describe(include=['object'])"
   ]
  },
  {
   "cell_type": "markdown",
   "metadata": {
    "id": "Ju8NZwNuNrge"
   },
   "source": [
    "Analising the data we can see that the categorical and numerical data can group in this way."
   ]
  },
  {
   "cell_type": "code",
   "execution_count": 8,
   "metadata": {
    "executionInfo": {
     "elapsed": 652,
     "status": "ok",
     "timestamp": 1609813903300,
     "user": {
      "displayName": "David Castillo",
      "photoUrl": "https://lh3.googleusercontent.com/a-/AOh14Gg5XtOH3psM7ovC3D5p28SlHs4XVyU8gb-DXTurmF8=s64",
      "userId": "09801156893445499453"
     },
     "user_tz": 300
    },
    "id": "D9D5gMowNrge"
   },
   "outputs": [],
   "source": [
    "DBtrain_num = ['Age', 'SibSp', 'Parch', 'Fare']\n",
    "DBtrain_cat = ['Sex', 'Ticket', 'Cabin', 'Embarked', 'Survived','Pclass']"
   ]
  },
  {
   "cell_type": "markdown",
   "metadata": {
    "id": "LOpl1KiRNrgf"
   },
   "source": [
    "### EDA - Visualizing histograms for numerical data\n",
    "We can see that, Age is pretty normalize, but SibSP, Parch concentrate values of zero(0) value, \n",
    "We can see that Fare haven't a normal distribution, but i think that i could normalize, apply some matematical operatión to his values"
   ]
  },
  {
   "cell_type": "code",
   "execution_count": 9,
   "metadata": {
    "colab": {
     "base_uri": "https://localhost:8080/",
     "height": 583
    },
    "executionInfo": {
     "elapsed": 2066,
     "status": "ok",
     "timestamp": 1609813906779,
     "user": {
      "displayName": "David Castillo",
      "photoUrl": "https://lh3.googleusercontent.com/a-/AOh14Gg5XtOH3psM7ovC3D5p28SlHs4XVyU8gb-DXTurmF8=s64",
      "userId": "09801156893445499453"
     },
     "user_tz": 300
    },
    "id": "oxc3MFvWNrgf",
    "outputId": "ded8fbb1-7303-446a-b300-d6e3e62e1659"
   },
   "outputs": [
    {
     "data": {
      "image/png": "[encoded data removed]",
      "text/plain": [
       "<Figure size 1440x720 with 4 Axes>"
      ]
     },
     "metadata": {
      "needs_background": "light",
      "tags": []
     },
     "output_type": "display_data"
    }
   ],
   "source": [
    "rcParams['figure.figsize'] = 20, 10\n",
    "fig, axes = plt.subplots(nrows=2, ncols=2)\n",
    "colors = ['b', 'g', 'r', 'k']\n",
    "n_bins = None\n",
    "for n, zippack in enumerate(zip(axes.flatten(), DBtrain_num)):\n",
    "    axhist , i_label = zippack\n",
    "    axhist.hist(DBtrain[i_label],bins=n_bins, histtype='bar',color=colors[n] ,density =None)\n",
    "    axhist.set_title(i_label)"
   ]
  },
  {
   "cell_type": "markdown",
   "metadata": {
    "id": "R9I-b_aPNrgf"
   },
   "source": [
    "We can see that Age and Fare, have multiples values, maybe we can create bands of values and see probability behavior of survive"
   ]
  },
  {
   "cell_type": "markdown",
   "metadata": {
    "id": "wDkaT0QANrgg"
   },
   "source": [
    "* We can create bands in Age <br>\n",
    "There are not a perfect lenght for discretize the Age, but 5 look pretty good, for diferenciate probalistic beteeen bands, more bands, generate almos equal probality in intemedian ages"
   ]
  },
  {
   "cell_type": "code",
   "execution_count": 10,
   "metadata": {
    "colab": {
     "base_uri": "https://localhost:8080/",
     "height": 294
    },
    "executionInfo": {
     "elapsed": 809,
     "status": "ok",
     "timestamp": 1609813910128,
     "user": {
      "displayName": "David Castillo",
      "photoUrl": "https://lh3.googleusercontent.com/a-/AOh14Gg5XtOH3psM7ovC3D5p28SlHs4XVyU8gb-DXTurmF8=s64",
      "userId": "09801156893445499453"
     },
     "user_tz": 300
    },
    "id": "LImx60CPNrgg",
    "outputId": "ef995c9b-a7f4-4b13-969e-fc61c7ad91ff"
   },
   "outputs": [
    {
     "data": {
      "image/png": "[encoded data removed]",
      "text/plain": [
       "<Figure size 576x288 with 1 Axes>"
      ]
     },
     "metadata": {
      "needs_background": "light",
      "tags": []
     },
     "output_type": "display_data"
    }
   ],
   "source": [
    "rcParams['figure.figsize'] = 8, 4\n",
    "color = ['r','m','k','c','g']\n",
    "n_bins = 5\n",
    "f=plt.figure()\n",
    "ax=f.add_subplot(1,1,1)\n",
    "height = 1\n",
    "DBtrain['AgeBand'] = pd.cut(DBtrain['Age'], [min(0,DBtrain['Age'].min()-1),16,32,48,64,max(100,DBtrain['Age'].max())])\n",
    "ageband_surc= DBtrain[['AgeBand', 'Survived']].groupby(['AgeBand'], as_index=False ).mean().sort_values(by='AgeBand', ascending=True)\n",
    "ageband_surc['AgeBand'] = ageband_surc['AgeBand'].astype(str)\n",
    "\n",
    "ageband_count = DBtrain[['AgeBand', 'PassengerId']].groupby(['AgeBand'], as_index=False ).count().sort_values(by='AgeBand', ascending=True)\n",
    "\n",
    "ax.barh(y=ageband_surc['AgeBand'],width=ageband_surc['Survived'], color=color)\n",
    "ax.set_xlabel('Probability')\n",
    "ax.set_ylabel('Age band')\n",
    "ax.set_title('P-survive VS Age (Count of people)')\n",
    "_ = [ax.text(0.05,height*ind, '('+str(ageband_count['PassengerId'][ind])+')',color='w') for ind in range(len(ageband_surc))]"
   ]
  },
  {
   "cell_type": "markdown",
   "metadata": {
    "id": "XfxCKt7uNrgg"
   },
   "source": [
    "* We can analize Fare groups vs bands <br>\n",
    "we can see clearly that more wealthy you are, more probability of survive, but around 170-426 the probability didn't change to much\n",
    "But if we only use 3 bins, the difference increases drastically, we could see a rate ~ x2 for every range, i mean ~ 0.38, 0.65, 1 in p-survive, unfortunately who survive depend on the wealthiness."
   ]
  },
  {
   "cell_type": "code",
   "execution_count": 11,
   "metadata": {
    "colab": {
     "base_uri": "https://localhost:8080/",
     "height": 294
    },
    "executionInfo": {
     "elapsed": 729,
     "status": "ok",
     "timestamp": 1609813912567,
     "user": {
      "displayName": "David Castillo",
      "photoUrl": "https://lh3.googleusercontent.com/a-/AOh14Gg5XtOH3psM7ovC3D5p28SlHs4XVyU8gb-DXTurmF8=s64",
      "userId": "09801156893445499453"
     },
     "user_tz": 300
    },
    "id": "5CMdNk4uNrgh",
    "outputId": "98bedc95-8906-47f2-c4a3-36da85ae59fa"
   },
   "outputs": [
    {
     "data": {
      "image/png": "[encoded data removed]",
      "text/plain": [
       "<Figure size 576x288 with 1 Axes>"
      ]
     },
     "metadata": {
      "needs_background": "light",
      "tags": []
     },
     "output_type": "display_data"
    }
   ],
   "source": [
    "rcParams['figure.figsize'] = 8, 4\n",
    "color = ['r','m','k','c','g','r','m','k','c','g','r','m','k','c','g']\n",
    "f=plt.figure()\n",
    "ax=f.add_subplot(1,1,1)\n",
    "DBtrain['FareBand'] = pd.cut(DBtrain['Fare'], [min(-1,DBtrain['Fare'].min()),85,170,256,426,max(600,DBtrain['Fare'].max())])\n",
    "fareband_count = DBtrain[['FareBand', 'PassengerId']].groupby(['FareBand'], as_index=False ).count().sort_values(by='FareBand', ascending=True)\n",
    "fareband_surv = DBtrain[['FareBand', 'Survived']].groupby(['FareBand'], as_index=False ).mean().sort_values(by='FareBand', ascending=True)\n",
    "fareband_surv['FareBand'] = fareband_surv['FareBand'].astype(str)\n",
    "ax.barh(y=fareband_surv['FareBand'],width=fareband_surv['Survived'], color=color)\n",
    "ax.set_xlabel('Probability')\n",
    "ax.set_ylabel('Fare Band')\n",
    "ax.set_title('P-survive VS Fare (Count of people)')\n",
    "_ = [ax.text(0.05,height*ind,'('+str(fareband_count['PassengerId'][ind])+')',color='w') for ind in range(len(ageband_surc))]"
   ]
  },
  {
   "cell_type": "markdown",
   "metadata": {
    "id": "FvHiImM2Nrgh"
   },
   "source": [
    "### EDA - Correlation between numerical features\n",
    "From this study, we can infare that SibSp and Parch are a quite correlated, so we may fusion those variables into a single one, that indicate about, how alone or acoompained is a passenger, maybe infuence his survival"
   ]
  },
  {
   "cell_type": "code",
   "execution_count": 12,
   "metadata": {
    "colab": {
     "base_uri": "https://localhost:8080/",
     "height": 356
    },
    "executionInfo": {
     "elapsed": 1345,
     "status": "ok",
     "timestamp": 1609813915860,
     "user": {
      "displayName": "David Castillo",
      "photoUrl": "https://lh3.googleusercontent.com/a-/AOh14Gg5XtOH3psM7ovC3D5p28SlHs4XVyU8gb-DXTurmF8=s64",
      "userId": "09801156893445499453"
     },
     "user_tz": 300
    },
    "id": "KeeIS-NrNrgi",
    "outputId": "83ae26e5-2358-44a5-9df0-1cc57c25c861"
   },
   "outputs": [
    {
     "name": "stdout",
     "output_type": "stream",
     "text": [
      "            Age     SibSp     Parch      Fare\n",
      "Age    1.000000 -0.308247 -0.189119  0.096067\n",
      "SibSp -0.308247  1.000000  0.414838  0.159651\n",
      "Parch -0.189119  0.414838  1.000000  0.216225\n",
      "Fare   0.096067  0.159651  0.216225  1.000000\n"
     ]
    },
    {
     "data": {
      "image/png": "[encoded data removed]",
      "text/plain": [
       "<Figure size 432x288 with 2 Axes>"
      ]
     },
     "metadata": {
      "needs_background": "light",
      "tags": []
     },
     "output_type": "display_data"
    }
   ],
   "source": [
    "rcParams['figure.figsize'] = 6, 4\n",
    "coor_matrix = DBtrain[DBtrain_num].corr()\n",
    "print(coor_matrix)\n",
    "_ = sns.heatmap(coor_matrix)"
   ]
  },
  {
   "cell_type": "markdown",
   "metadata": {
    "id": "ng5pMvj6Nrgi"
   },
   "source": [
    "### EDA - Mean Values for every num_val VS Survived\n",
    "We can see \n",
    "* more young more probability to survive\n",
    "* more wealthy more chance to survive\n",
    "* About Parch and SibSP is not so clear, but i think that is a little indicator to more parents more chance to live<br>\n",
    "\n",
    "Before we saw that in every band of Age and Fare this results are very correlated"
   ]
  },
  {
   "cell_type": "code",
   "execution_count": 13,
   "metadata": {
    "colab": {
     "base_uri": "https://localhost:8080/",
     "height": 171
    },
    "executionInfo": {
     "elapsed": 796,
     "status": "ok",
     "timestamp": 1609813920175,
     "user": {
      "displayName": "David Castillo",
      "photoUrl": "https://lh3.googleusercontent.com/a-/AOh14Gg5XtOH3psM7ovC3D5p28SlHs4XVyU8gb-DXTurmF8=s64",
      "userId": "09801156893445499453"
     },
     "user_tz": 300
    },
    "id": "NyyatRDLNrgi",
    "outputId": "6f4802f4-6c4c-43f6-a7b4-2978c51ddff4"
   },
   "outputs": [
    {
     "data": {
      "text/html": [
       "<div>\n",
       "<style scoped>\n",
       "    .dataframe tbody tr th:only-of-type {\n",
       "        vertical-align: middle;\n",
       "    }\n",
       "\n",
       "    .dataframe tbody tr th {\n",
       "        vertical-align: top;\n",
       "    }\n",
       "\n",
       "    .dataframe thead tr th {\n",
       "        text-align: left;\n",
       "    }\n",
       "\n",
       "    .dataframe thead tr:last-of-type th {\n",
       "        text-align: right;\n",
       "    }\n",
       "</style>\n",
       "<table border=\"1\" class=\"dataframe\">\n",
       "  <thead>\n",
       "    <tr>\n",
       "      <th></th>\n",
       "      <th colspan=\"4\" halign=\"left\">mean</th>\n",
       "    </tr>\n",
       "    <tr>\n",
       "      <th></th>\n",
       "      <th>Age</th>\n",
       "      <th>Fare</th>\n",
       "      <th>Parch</th>\n",
       "      <th>SibSp</th>\n",
       "    </tr>\n",
       "    <tr>\n",
       "      <th>Survived</th>\n",
       "      <th></th>\n",
       "      <th></th>\n",
       "      <th></th>\n",
       "      <th></th>\n",
       "    </tr>\n",
       "  </thead>\n",
       "  <tbody>\n",
       "    <tr>\n",
       "      <th>0</th>\n",
       "      <td>30.626179</td>\n",
       "      <td>22.117887</td>\n",
       "      <td>0.329690</td>\n",
       "      <td>0.553734</td>\n",
       "    </tr>\n",
       "    <tr>\n",
       "      <th>1</th>\n",
       "      <td>28.343690</td>\n",
       "      <td>48.395408</td>\n",
       "      <td>0.464912</td>\n",
       "      <td>0.473684</td>\n",
       "    </tr>\n",
       "  </tbody>\n",
       "</table>\n",
       "</div>"
      ],
      "text/plain": [
       "               mean                               \n",
       "                Age       Fare     Parch     SibSp\n",
       "Survived                                          \n",
       "0         30.626179  22.117887  0.329690  0.553734\n",
       "1         28.343690  48.395408  0.464912  0.473684"
      ]
     },
     "execution_count": 13,
     "metadata": {
      "tags": []
     },
     "output_type": "execute_result"
    }
   ],
   "source": [
    "pd.pivot_table(DBtrain, index= 'Survived',values= DBtrain_num,aggfunc=['mean' ])"
   ]
  },
  {
   "cell_type": "markdown",
   "metadata": {
    "id": "OdeefFHzNrgk"
   },
   "source": [
    "### EDA - Barchar for categorical Data\n",
    "we can see<p>\n",
    "-the population of male are more bigger that female<p>\n",
    "-the embarker C is more frecuenly<p>\n",
    "-the 3thr class is the mayority of the passenger<p>\n",
    "-Ticket and Cabin are not grouped so they can't be categorized in his raw form<p>\n",
    "-Imbalance data set to classify survivor, could produce imbalance model, 549 deads vs 342 survivors"
   ]
  },
  {
   "cell_type": "code",
   "execution_count": 14,
   "metadata": {
    "colab": {
     "base_uri": "https://localhost:8080/",
     "height": 583
    },
    "executionInfo": {
     "elapsed": 29846,
     "status": "ok",
     "timestamp": 1609813958479,
     "user": {
      "displayName": "David Castillo",
      "photoUrl": "https://lh3.googleusercontent.com/a-/AOh14Gg5XtOH3psM7ovC3D5p28SlHs4XVyU8gb-DXTurmF8=s64",
      "userId": "09801156893445499453"
     },
     "user_tz": 300
    },
    "id": "Xt3Rz36PNrgk",
    "outputId": "9dc4535a-053c-4b25-855c-c47c6c0fafe3"
   },
   "outputs": [
    {
     "data": {
      "image/png": "[encoded data removed]",
      "text/plain": [
       "<Figure size 1440x720 with 6 Axes>"
      ]
     },
     "metadata": {
      "needs_background": "light",
      "tags": []
     },
     "output_type": "display_data"
    }
   ],
   "source": [
    "rcParams['figure.figsize'] = 20, 10\n",
    "fig, axes = plt.subplots(nrows=2, ncols=3)\n",
    "colors = ['b', 'g', 'r', 'k','m','b']\n",
    "for n, zippack in enumerate(zip(axes.flatten(), DBtrain_cat)):\n",
    "    axhist , i_label = zippack\n",
    "    axhist.bar(DBtrain[i_label].value_counts().index.astype('object'), DBtrain[i_label].value_counts(),color=colors[n],width=0.5)\n",
    "    axhist.set_title(i_label)"
   ]
  },
  {
   "cell_type": "markdown",
   "metadata": {
    "id": "MR5zYmK-Nrgk"
   },
   "source": [
    "### EDA - Relationship between every categorical data and survival rate\n",
    "We visualice some relation between survivers and his conditions in the journy\n",
    "* Females survive more that males\n",
    "* Embarker C have more survivors\n",
    "* Class 1 have more survivors <p>\n",
    "\n",
    "We may say that this result is because,\n",
    "1. Money, Unfortunately is a factor\n",
    "2. The place where they out,\n",
    "3. \"Women and children first\" [wiki](https://en.wikipedia.org/wiki/Women_and_children_first)"
   ]
  },
  {
   "cell_type": "code",
   "execution_count": 15,
   "metadata": {
    "executionInfo": {
     "elapsed": 671,
     "status": "ok",
     "timestamp": 1609813964731,
     "user": {
      "displayName": "David Castillo",
      "photoUrl": "https://lh3.googleusercontent.com/a-/AOh14Gg5XtOH3psM7ovC3D5p28SlHs4XVyU8gb-DXTurmF8=s64",
      "userId": "09801156893445499453"
     },
     "user_tz": 300
    },
    "id": "LVj7OfkONrgl"
   },
   "outputs": [],
   "source": [
    "def plot_bar_figure(label, data, xlabel, ylabel, title, rot='h', text =None, text_label=None, figsize = (10,2), colortext='w',heightText=0.07):\n",
    "#     def get_ax_size(ax):\n",
    "#         bbox = ax.get_window_extent().transformed(fig.dpi_scale_trans.inverted())\n",
    "#         width, height = bbox.width, bbox.height\n",
    "#         #width *= fig.dpi\n",
    "#         #height *= fig.dpi\n",
    "#         return width, height\n",
    "    #rcParams['figure.figsize'] = 10, 2\n",
    "    color = ['r','m','k','c','g','r','m','k','c','g','r','m','k','c','g']\n",
    "    f=plt.figure(figsize=figsize)\n",
    "    ax=f.add_subplot(1,1,1)\n",
    "    if rot == 'h':\n",
    "        ax.barh(y=label,width =data,color = [color[color_i] for color_i in range(len(label))])\n",
    "        _= [ax.text(0.1,i+heightText, '('+str(text[i])+')', color = colortext) for i in range(len(text))] if not text is None else 0\n",
    "    elif rot == 'v':\n",
    "        ax.bar(x=label,height =data,color = [color[color_i] for color_i in range(len(label))])\n",
    "        _= [ax.text(i+heightText,1, '('+str(text[i])+')', color = colortext) for i in range(len(text))] if not text is None else 0\n",
    "    ax.set_xlabel(xlabel) \n",
    "    ax.set_ylabel(ylabel)\n",
    "    ax.set_title(title) if text_label == None else ax.set_title(title+ \" (\"+text_label+\")\") "
   ]
  },
  {
   "cell_type": "code",
   "execution_count": 16,
   "metadata": {
    "colab": {
     "base_uri": "https://localhost:8080/",
     "height": 693
    },
    "executionInfo": {
     "elapsed": 1920,
     "status": "ok",
     "timestamp": 1609813973782,
     "user": {
      "displayName": "David Castillo",
      "photoUrl": "https://lh3.googleusercontent.com/a-/AOh14Gg5XtOH3psM7ovC3D5p28SlHs4XVyU8gb-DXTurmF8=s64",
      "userId": "09801156893445499453"
     },
     "user_tz": 300
    },
    "id": "o51tS9CmNrgl",
    "outputId": "74ada7b0-b1fe-4e74-bb20-c44239971f70"
   },
   "outputs": [
    {
     "data": {
      "image/png": "[encoded data removed]",
      "text/plain": [
       "<Figure size 720x144 with 1 Axes>"
      ]
     },
     "metadata": {
      "needs_background": "light",
      "tags": []
     },
     "output_type": "display_data"
    },
    {
     "data": {
      "image/png": "[encoded data removed]",
      "text/plain": [
       "<Figure size 720x144 with 1 Axes>"
      ]
     },
     "metadata": {
      "needs_background": "light",
      "tags": []
     },
     "output_type": "display_data"
    },
    {
     "data": {
      "image/png": "[encoded data removed]",
      "text/plain": [
       "<Figure size 720x144 with 1 Axes>"
      ]
     },
     "metadata": {
      "needs_background": "light",
      "tags": []
     },
     "output_type": "display_data"
    },
    {
     "data": {
      "image/png": "[encoded data removed]",
      "text/plain": [
       "<Figure size 720x144 with 1 Axes>"
      ]
     },
     "metadata": {
      "needs_background": "light",
      "tags": []
     },
     "output_type": "display_data"
    }
   ],
   "source": [
    "not_pivot = ['Survived','Ticket', 'Cabin' ]\n",
    "\n",
    "\n",
    "survivors = pd.pivot_table(DBtrain, index= 'Survived',values= 'Ticket',aggfunc=['count'])\n",
    "plot_bar_figure(label = ['NO', 'YES'], # survivors.index, #\n",
    "                data =survivors['count']['Ticket'], \n",
    "                xlabel= 'population', \n",
    "                ylabel='Survived', \n",
    "                title='Survivors', \n",
    "                text = survivors['count']['Ticket'], rot='h',text_label='Count')\n",
    "\n",
    "for i_label in DBtrain_cat:\n",
    "    if i_label not in not_pivot:\n",
    "        pivot_table = pd.pivot_table(DBtrain, index= i_label,values= 'Survived',aggfunc=['mean','count'])\n",
    "        #display(pivot_table)\n",
    "        text = pivot_table['count']['Survived'].tolist() \n",
    "        plot_bar_figure(label = pivot_table['mean'].index.astype(str),#survivors.index, \n",
    "                        data =pivot_table['mean']['Survived'], \n",
    "                        xlabel= 'P-Survive', \n",
    "                        ylabel=i_label, \n",
    "                        title=i_label + ' vs '+'P-Survive', \n",
    "                        text = text , rot='h',text_label='Count'  )"
   ]
  },
  {
   "cell_type": "markdown",
   "metadata": {
    "id": "E3uYQGApNrgl"
   },
   "source": [
    "# FE - Feature Engineering\n",
    "___________________________"
   ]
  },
  {
   "cell_type": "markdown",
   "metadata": {
    "id": "nu6IRVCaNrgl"
   },
   "source": [
    "#### Augmented Features\n",
    "* Create a new feature from study Parch and SibSp\n",
    "* Transform cabin string feature into a number that represent how many cabins a passager bought\n",
    "* Take more features, asumming that one person bought all cabin with the same firts word, so we can know what \"cabin Type\" bought a passenger\n",
    "* Take more features from the \"Name\" feature, we goint to see if the title name is relevant to determine if someone survive\n",
    "* Study the posibility to extract some features form \"Ticket\"\n",
    "* Fill nan values\n",
    "* Normalizing Data\n",
    "________________________________"
   ]
  },
  {
   "cell_type": "markdown",
   "metadata": {
    "id": "v6a4-alNNrgl"
   },
   "source": [
    "### FE - Create a new feature from study Parch and SibSp\n",
    "Just like we say in EDA, we can see a correlatión between Parch and SibSp, so we can create a single feature that resumen and could be more afective.\n",
    "\n",
    "We know that bouth feature are relatave with how much familiar companied do you have in the ship, so we can summaize bouth feature into just one."
   ]
  },
  {
   "cell_type": "code",
   "execution_count": 17,
   "metadata": {
    "colab": {
     "base_uri": "https://localhost:8080/",
     "height": 512
    },
    "executionInfo": {
     "elapsed": 1613,
     "status": "ok",
     "timestamp": 1609813986083,
     "user": {
      "displayName": "David Castillo",
      "photoUrl": "https://lh3.googleusercontent.com/a-/AOh14Gg5XtOH3psM7ovC3D5p28SlHs4XVyU8gb-DXTurmF8=s64",
      "userId": "09801156893445499453"
     },
     "user_tz": 300
    },
    "id": "c1sxKW-8Nrgl",
    "outputId": "06a263fb-3de5-49f4-b192-658bf0d66b97"
   },
   "outputs": [
    {
     "data": {
      "image/png": "[encoded data removed]",
      "text/plain": [
       "<Figure size 864x576 with 1 Axes>"
      ]
     },
     "metadata": {
      "needs_background": "light",
      "tags": []
     },
     "output_type": "display_data"
    }
   ],
   "source": [
    "DBtrain['n_parents'] = DBtrain['SibSp'] + DBtrain['Parch']\n",
    "nParents_surv = pd.pivot_table(DBtrain, index= 'n_parents' ,values= 'Survived',aggfunc=['mean', 'count'])\n",
    "\n",
    "plot_bar_figure(label = nParents_surv['mean'].index.astype(str),\n",
    "                data = nParents_surv['mean']['Survived'],\n",
    "                xlabel = 'P-survive',\n",
    "                ylabel = 'N - Parents', \n",
    "                title= 'N_Parents vs P-Survive', \n",
    "                text = nParents_surv['count']['Survived'].tolist(),\n",
    "                text_label = 'Count',colortext='w',\n",
    "                figsize = (12,8))"
   ]
  },
  {
   "cell_type": "code",
   "execution_count": null,
   "metadata": {
    "id": "svJ72mBfZDSd"
   },
   "outputs": [],
   "source": [
    "DBtrain.head()"
   ]
  },
  {
   "cell_type": "markdown",
   "metadata": {
    "id": "vDs9yhzmNrgm"
   },
   "source": [
    "We see so many categories that destroy visivility, so we try transforming all categories into just 2, or you are accompanied or alone.\n",
    "* if you are accompanied your chances to survive increase around to 50%\n"
   ]
  },
  {
   "cell_type": "code",
   "execution_count": 19,
   "metadata": {
    "colab": {
     "base_uri": "https://localhost:8080/"
    },
    "executionInfo": {
     "elapsed": 648,
     "status": "ok",
     "timestamp": 1609814018624,
     "user": {
      "displayName": "David Castillo",
      "photoUrl": "https://lh3.googleusercontent.com/a-/AOh14Gg5XtOH3psM7ovC3D5p28SlHs4XVyU8gb-DXTurmF8=s64",
      "userId": "09801156893445499453"
     },
     "user_tz": 300
    },
    "id": "R1Q7Dzh8Nrgm",
    "outputId": "14988126-7431-48c6-a8b9-80f430592442"
   },
   "outputs": [
    {
     "name": "stdout",
     "output_type": "stream",
     "text": [
      "accompanied      0     1     2     3     4     5    6    nn\n",
      "Survived                                                   \n",
      "0            374.0  72.0  43.0   8.0  12.0  19.0  8.0  13.0\n",
      "1            163.0  89.0  59.0  21.0   3.0   3.0  4.0   NaN\n"
     ]
    }
   ],
   "source": [
    "DBtrain['accompanied'] = DBtrain['n_parents'].apply(lambda x: x if x <7 else 'nn') #(lambda x: 1 if x >0 else 0) \n",
    "_ = pd.pivot_table(DBtrain, columns= 'accompanied', index= 'Survived',values= 'PassengerId',aggfunc='count')\n",
    "print(_)"
   ]
  },
  {
   "cell_type": "markdown",
   "metadata": {
    "id": "toPx2JTcNrgm"
   },
   "source": [
    "### FE - Exploring what is Cabin, \n",
    "we can see that not everyone buy for a cabin, but some wealthy people bought more than one cabin\n",
    "\n",
    "We can supose that the name of the cabins dosen't matter. I think that only mather the quantity of cabin that a people buy,\n",
    "that could be related whit his wealthiness.\n",
    "For other hand, we can study that the first letter, in the cabin name, could have some importance over the survivors, maybe its location on the ship."
   ]
  },
  {
   "cell_type": "code",
   "execution_count": 20,
   "metadata": {
    "colab": {
     "base_uri": "https://localhost:8080/",
     "height": 415
    },
    "executionInfo": {
     "elapsed": 679,
     "status": "ok",
     "timestamp": 1609814059037,
     "user": {
      "displayName": "David Castillo",
      "photoUrl": "https://lh3.googleusercontent.com/a-/AOh14Gg5XtOH3psM7ovC3D5p28SlHs4XVyU8gb-DXTurmF8=s64",
      "userId": "09801156893445499453"
     },
     "user_tz": 300
    },
    "id": "tEYzJq08Nrgm",
    "outputId": "7b93d160-6c07-4047-8215-649d7dc67c92"
   },
   "outputs": [
    {
     "data": {
      "text/html": [
       "<div>\n",
       "<style scoped>\n",
       "    .dataframe tbody tr th:only-of-type {\n",
       "        vertical-align: middle;\n",
       "    }\n",
       "\n",
       "    .dataframe tbody tr th {\n",
       "        vertical-align: top;\n",
       "    }\n",
       "\n",
       "    .dataframe thead th {\n",
       "        text-align: right;\n",
       "    }\n",
       "</style>\n",
       "<table border=\"1\" class=\"dataframe\">\n",
       "  <thead>\n",
       "    <tr style=\"text-align: right;\">\n",
       "      <th></th>\n",
       "      <th>Cabin</th>\n",
       "      <th>Count_Cabin</th>\n",
       "      <th>w_Cabin</th>\n",
       "    </tr>\n",
       "  </thead>\n",
       "  <tbody>\n",
       "    <tr>\n",
       "      <th>0</th>\n",
       "      <td>NaN</td>\n",
       "      <td>0</td>\n",
       "      <td>nn</td>\n",
       "    </tr>\n",
       "    <tr>\n",
       "      <th>548</th>\n",
       "      <td>NaN</td>\n",
       "      <td>0</td>\n",
       "      <td>nn</td>\n",
       "    </tr>\n",
       "    <tr>\n",
       "      <th>549</th>\n",
       "      <td>NaN</td>\n",
       "      <td>0</td>\n",
       "      <td>nn</td>\n",
       "    </tr>\n",
       "    <tr>\n",
       "      <th>551</th>\n",
       "      <td>NaN</td>\n",
       "      <td>0</td>\n",
       "      <td>nn</td>\n",
       "    </tr>\n",
       "    <tr>\n",
       "      <th>552</th>\n",
       "      <td>NaN</td>\n",
       "      <td>0</td>\n",
       "      <td>nn</td>\n",
       "    </tr>\n",
       "    <tr>\n",
       "      <th>...</th>\n",
       "      <td>...</td>\n",
       "      <td>...</td>\n",
       "      <td>...</td>\n",
       "    </tr>\n",
       "    <tr>\n",
       "      <th>341</th>\n",
       "      <td>C23 C25 C27</td>\n",
       "      <td>3</td>\n",
       "      <td>C</td>\n",
       "    </tr>\n",
       "    <tr>\n",
       "      <th>27</th>\n",
       "      <td>C23 C25 C27</td>\n",
       "      <td>3</td>\n",
       "      <td>C</td>\n",
       "    </tr>\n",
       "    <tr>\n",
       "      <th>679</th>\n",
       "      <td>B51 B53 B55</td>\n",
       "      <td>3</td>\n",
       "      <td>B</td>\n",
       "    </tr>\n",
       "    <tr>\n",
       "      <th>311</th>\n",
       "      <td>B57 B59 B63 B66</td>\n",
       "      <td>4</td>\n",
       "      <td>B</td>\n",
       "    </tr>\n",
       "    <tr>\n",
       "      <th>742</th>\n",
       "      <td>B57 B59 B63 B66</td>\n",
       "      <td>4</td>\n",
       "      <td>B</td>\n",
       "    </tr>\n",
       "  </tbody>\n",
       "</table>\n",
       "<p>891 rows × 3 columns</p>\n",
       "</div>"
      ],
      "text/plain": [
       "               Cabin  Count_Cabin w_Cabin\n",
       "0                NaN            0      nn\n",
       "548              NaN            0      nn\n",
       "549              NaN            0      nn\n",
       "551              NaN            0      nn\n",
       "552              NaN            0      nn\n",
       "..               ...          ...     ...\n",
       "341      C23 C25 C27            3       C\n",
       "27       C23 C25 C27            3       C\n",
       "679      B51 B53 B55            3       B\n",
       "311  B57 B59 B63 B66            4       B\n",
       "742  B57 B59 B63 B66            4       B\n",
       "\n",
       "[891 rows x 3 columns]"
      ]
     },
     "execution_count": 20,
     "metadata": {
      "tags": []
     },
     "output_type": "execute_result"
    }
   ],
   "source": [
    "# Count how many cabins a passenger bought\n",
    "DBtrain['Count_Cabin'] = DBtrain['Cabin'].apply(lambda x: 0 if pd.isna(x) else len(x.split(' ')))\n",
    "#DBtrain['Count_Cabin'].value_counts()\n",
    "\n",
    "# Categorizing which type of cabin a passenger bought\n",
    "DBtrain['w_Cabin'] = DBtrain['Cabin'].apply(lambda x: 'nn' if pd.isna(x) else x[0])\n",
    "#DBtrain['w_Cabin'].value_counts() \n",
    "\n",
    "DBtrain[['Cabin','Count_Cabin','w_Cabin']].sort_values('Count_Cabin')"
   ]
  },
  {
   "cell_type": "markdown",
   "metadata": {
    "id": "U4U08JN_Nrgn"
   },
   "source": [
    "We see that the way majority of the passengers not bought a single Cabin, so now we pretend to categorice the cabins, this will create inacurrate data for the model, instead we could only extract only two categories, \n",
    "* The passenger bought or not a cabin"
   ]
  },
  {
   "cell_type": "code",
   "execution_count": 22,
   "metadata": {
    "colab": {
     "base_uri": "https://localhost:8080/",
     "height": 281
    },
    "executionInfo": {
     "elapsed": 720,
     "status": "ok",
     "timestamp": 1609814082466,
     "user": {
      "displayName": "David Castillo",
      "photoUrl": "https://lh3.googleusercontent.com/a-/AOh14Gg5XtOH3psM7ovC3D5p28SlHs4XVyU8gb-DXTurmF8=s64",
      "userId": "09801156893445499453"
     },
     "user_tz": 300
    },
    "id": "sv9u28wyNrgn",
    "outputId": "6d6ac96e-525a-4d5a-8b79-a844b695f40e"
   },
   "outputs": [
    {
     "data": {
      "text/html": [
       "<div>\n",
       "<style scoped>\n",
       "    .dataframe tbody tr th:only-of-type {\n",
       "        vertical-align: middle;\n",
       "    }\n",
       "\n",
       "    .dataframe tbody tr th {\n",
       "        vertical-align: top;\n",
       "    }\n",
       "\n",
       "    .dataframe thead th {\n",
       "        text-align: right;\n",
       "    }\n",
       "</style>\n",
       "<table border=\"1\" class=\"dataframe\">\n",
       "  <thead>\n",
       "    <tr style=\"text-align: right;\">\n",
       "      <th>Count_Cabin</th>\n",
       "      <th>0</th>\n",
       "      <th>1</th>\n",
       "      <th>2</th>\n",
       "      <th>3</th>\n",
       "      <th>4</th>\n",
       "    </tr>\n",
       "    <tr>\n",
       "      <th>Survived</th>\n",
       "      <th></th>\n",
       "      <th></th>\n",
       "      <th></th>\n",
       "      <th></th>\n",
       "      <th></th>\n",
       "    </tr>\n",
       "  </thead>\n",
       "  <tbody>\n",
       "    <tr>\n",
       "      <th>0</th>\n",
       "      <td>481.0</td>\n",
       "      <td>58.0</td>\n",
       "      <td>7.0</td>\n",
       "      <td>3.0</td>\n",
       "      <td>NaN</td>\n",
       "    </tr>\n",
       "    <tr>\n",
       "      <th>1</th>\n",
       "      <td>206.0</td>\n",
       "      <td>122.0</td>\n",
       "      <td>9.0</td>\n",
       "      <td>3.0</td>\n",
       "      <td>2.0</td>\n",
       "    </tr>\n",
       "  </tbody>\n",
       "</table>\n",
       "</div>"
      ],
      "text/plain": [
       "Count_Cabin      0      1    2    3    4\n",
       "Survived                                \n",
       "0            481.0   58.0  7.0  3.0  NaN\n",
       "1            206.0  122.0  9.0  3.0  2.0"
      ]
     },
     "metadata": {
      "tags": []
     },
     "output_type": "display_data"
    },
    {
     "name": "stdout",
     "output_type": "stream",
     "text": [
      "______________________\n"
     ]
    },
    {
     "data": {
      "text/html": [
       "<div>\n",
       "<style scoped>\n",
       "    .dataframe tbody tr th:only-of-type {\n",
       "        vertical-align: middle;\n",
       "    }\n",
       "\n",
       "    .dataframe tbody tr th {\n",
       "        vertical-align: top;\n",
       "    }\n",
       "\n",
       "    .dataframe thead th {\n",
       "        text-align: right;\n",
       "    }\n",
       "</style>\n",
       "<table border=\"1\" class=\"dataframe\">\n",
       "  <thead>\n",
       "    <tr style=\"text-align: right;\">\n",
       "      <th>w_Cabin</th>\n",
       "      <th>A</th>\n",
       "      <th>B</th>\n",
       "      <th>C</th>\n",
       "      <th>D</th>\n",
       "      <th>E</th>\n",
       "      <th>F</th>\n",
       "      <th>G</th>\n",
       "      <th>T</th>\n",
       "      <th>nn</th>\n",
       "    </tr>\n",
       "    <tr>\n",
       "      <th>Survived</th>\n",
       "      <th></th>\n",
       "      <th></th>\n",
       "      <th></th>\n",
       "      <th></th>\n",
       "      <th></th>\n",
       "      <th></th>\n",
       "      <th></th>\n",
       "      <th></th>\n",
       "      <th></th>\n",
       "    </tr>\n",
       "  </thead>\n",
       "  <tbody>\n",
       "    <tr>\n",
       "      <th>0</th>\n",
       "      <td>8.0</td>\n",
       "      <td>12.0</td>\n",
       "      <td>24.0</td>\n",
       "      <td>8.0</td>\n",
       "      <td>8.0</td>\n",
       "      <td>5.0</td>\n",
       "      <td>2.0</td>\n",
       "      <td>1.0</td>\n",
       "      <td>481.0</td>\n",
       "    </tr>\n",
       "    <tr>\n",
       "      <th>1</th>\n",
       "      <td>7.0</td>\n",
       "      <td>35.0</td>\n",
       "      <td>35.0</td>\n",
       "      <td>25.0</td>\n",
       "      <td>24.0</td>\n",
       "      <td>8.0</td>\n",
       "      <td>2.0</td>\n",
       "      <td>NaN</td>\n",
       "      <td>206.0</td>\n",
       "    </tr>\n",
       "  </tbody>\n",
       "</table>\n",
       "</div>"
      ],
      "text/plain": [
       "w_Cabin     A     B     C     D     E    F    G    T     nn\n",
       "Survived                                                   \n",
       "0         8.0  12.0  24.0   8.0   8.0  5.0  2.0  1.0  481.0\n",
       "1         7.0  35.0  35.0  25.0  24.0  8.0  2.0  NaN  206.0"
      ]
     },
     "metadata": {
      "tags": []
     },
     "output_type": "display_data"
    }
   ],
   "source": [
    "# We will see the relationship between survivors and the number of cabin that bought\n",
    "_ = pd.pivot_table(DBtrain, columns= 'Count_Cabin', index= 'Survived',values= 'Ticket',aggfunc='count')\n",
    "display(_)\n",
    "print(\"______________________\")\n",
    "# we will see the relationship between survivors and the type of cabin that they bought\n",
    "_ = pd.pivot_table(DBtrain, columns= 'w_Cabin', index= 'Survived',values= 'Ticket',aggfunc='count')\n",
    "display(_)"
   ]
  },
  {
   "cell_type": "markdown",
   "metadata": {
    "id": "m8E_9BvSNrgn"
   },
   "source": [
    "* The passenger bought a cabin yes or not"
   ]
  },
  {
   "cell_type": "code",
   "execution_count": 23,
   "metadata": {
    "colab": {
     "base_uri": "https://localhost:8080/",
     "height": 203
    },
    "executionInfo": {
     "elapsed": 1001,
     "status": "ok",
     "timestamp": 1609814109414,
     "user": {
      "displayName": "David Castillo",
      "photoUrl": "https://lh3.googleusercontent.com/a-/AOh14Gg5XtOH3psM7ovC3D5p28SlHs4XVyU8gb-DXTurmF8=s64",
      "userId": "09801156893445499453"
     },
     "user_tz": 300
    },
    "id": "yRWxNx38Nrgn",
    "outputId": "ab231466-f7c0-4291-ab1f-bc5980cfc68a"
   },
   "outputs": [
    {
     "data": {
      "text/plain": [
       "Text(0.5, 1.0, 'Survivor vs Population - Bought a Cabin')"
      ]
     },
     "execution_count": 23,
     "metadata": {
      "tags": []
     },
     "output_type": "execute_result"
    },
    {
     "data": {
      "image/png": "[encoded data removed]",
      "text/plain": [
       "<Figure size 720x144 with 1 Axes>"
      ]
     },
     "metadata": {
      "needs_background": "light",
      "tags": []
     },
     "output_type": "display_data"
    }
   ],
   "source": [
    "# The passenger bought a cabin yes or not\n",
    "DBtrain['b_Cabin'] = DBtrain['Cabin'].apply(lambda x: 0 if pd.isna(x) else 1)\n",
    "boughtCabin_survive = pd.pivot_table(DBtrain, columns= 'b_Cabin', index= 'Survived',values= 'Ticket',aggfunc='count')\n",
    "color = ['r','m','k','c','g','r','m','k','c','g','r','m','k','c','g']\n",
    "f=plt.figure(figsize=(10,2))\n",
    "ax=f.add_subplot(1,1,1)\n",
    "ax.barh(y=['NO', 'YES'],width =boughtCabin_survive[0])\n",
    "ax.barh(y=['NO', 'YES'],width =boughtCabin_survive[1])\n",
    "ax.legend(['Not Bought', 'Bought'])\n",
    "ax.set_xlabel('Population')\n",
    "ax.set_ylabel('Survived')\n",
    "ax.set_title('Survivor vs Population - Bought a Cabin') "
   ]
  },
  {
   "cell_type": "markdown",
   "metadata": {
    "id": "pevEFrHINrgn"
   },
   "source": [
    "### FE - Extracting features from Name\n",
    "We going to extract the name title from every passenger, I think that is relative with his social posición and his gender, maybe is a condition that affect his survival\n",
    "\n",
    "We see that exist 4 predominant titles name, so can group all passanger into this group, changing the less predomint to others"
   ]
  },
  {
   "cell_type": "code",
   "execution_count": 24,
   "metadata": {
    "colab": {
     "base_uri": "https://localhost:8080/"
    },
    "executionInfo": {
     "elapsed": 884,
     "status": "ok",
     "timestamp": 1609814145638,
     "user": {
      "displayName": "David Castillo",
      "photoUrl": "https://lh3.googleusercontent.com/a-/AOh14Gg5XtOH3psM7ovC3D5p28SlHs4XVyU8gb-DXTurmF8=s64",
      "userId": "09801156893445499453"
     },
     "user_tz": 300
    },
    "id": "ryDNmdeLNrgo",
    "outputId": "ea12b2c0-7040-450e-b6dc-97fd2db7152c"
   },
   "outputs": [
    {
     "data": {
      "text/plain": [
       "Mr              517\n",
       "Miss            182\n",
       "Mrs             125\n",
       "Master           40\n",
       "Dr                7\n",
       "Rev               6\n",
       "Major             2\n",
       "Mlle              2\n",
       "Col               2\n",
       "Sir               1\n",
       "Jonkheer          1\n",
       "Capt              1\n",
       "the Countess      1\n",
       "Ms                1\n",
       "Mme               1\n",
       "Don               1\n",
       "Lady              1\n",
       "Name: title_Name, dtype: int64"
      ]
     },
     "execution_count": 24,
     "metadata": {
      "tags": []
     },
     "output_type": "execute_result"
    }
   ],
   "source": [
    "DBtrain['title_Name'] = DBtrain['Name'].apply(lambda x: x.split(',')[1:][0].split('.')[0].strip())\n",
    "DBtrain['title_Name'].value_counts()"
   ]
  },
  {
   "cell_type": "code",
   "execution_count": 25,
   "metadata": {
    "colab": {
     "base_uri": "https://localhost:8080/",
     "height": 294
    },
    "executionInfo": {
     "elapsed": 1039,
     "status": "ok",
     "timestamp": 1609814187508,
     "user": {
      "displayName": "David Castillo",
      "photoUrl": "https://lh3.googleusercontent.com/a-/AOh14Gg5XtOH3psM7ovC3D5p28SlHs4XVyU8gb-DXTurmF8=s64",
      "userId": "09801156893445499453"
     },
     "user_tz": 300
    },
    "id": "kUB7GoghNrgo",
    "outputId": "93b95d9a-a989-4f77-c2a7-7695d1bb4834"
   },
   "outputs": [
    {
     "data": {
      "image/png": "[encoded data removed]",
      "text/plain": [
       "<Figure size 720x288 with 1 Axes>"
      ]
     },
     "metadata": {
      "needs_background": "light",
      "tags": []
     },
     "output_type": "display_data"
    }
   ],
   "source": [
    "# Grouping title names using only the predominants\n",
    "title_pred = ['Mr', 'Miss', 'Mrs','Master']\n",
    "DBtrain['title_Name'] = DBtrain['title_Name'].apply(lambda x: x if x in title_pred else 'Others')\n",
    "titleName_survi = pd.pivot_table(DBtrain, index= 'title_Name',values= 'Survived',aggfunc=['mean', 'count'])\n",
    "#display(titleName_survi)\n",
    "plot_bar_figure(label = titleName_survi.index.tolist() , \n",
    "                data= titleName_survi['mean']['Survived'] , \n",
    "                xlabel = 'P-Survive' , \n",
    "                ylabel = 'Title Name' , \n",
    "                title = 'Title Name vs P-Survive' , \n",
    "                text =titleName_survi['count']['Survived'], \n",
    "                text_label= 'Total Count' , \n",
    "                figsize = (10,4), \n",
    "                colortext='w',heightText=0.07)"
   ]
  },
  {
   "cell_type": "markdown",
   "metadata": {
    "id": "mMPrVE7LNrgo"
   },
   "source": [
    "### FE - Studing the Ticket\n",
    "I studied the numerical and the no numerical mix Ticket, and try to find some relation in survival rate, but we found that is too random to be useful. I decided to drop that feature."
   ]
  },
  {
   "cell_type": "code",
   "execution_count": 28,
   "metadata": {
    "colab": {
     "base_uri": "https://localhost:8080/",
     "height": 284
    },
    "executionInfo": {
     "elapsed": 645,
     "status": "ok",
     "timestamp": 1609814241018,
     "user": {
      "displayName": "David Castillo",
      "photoUrl": "https://lh3.googleusercontent.com/a-/AOh14Gg5XtOH3psM7ovC3D5p28SlHs4XVyU8gb-DXTurmF8=s64",
      "userId": "09801156893445499453"
     },
     "user_tz": 300
    },
    "id": "bjNw5MjxNrgo",
    "outputId": "978cd808-abf5-418a-e755-9c77b9ea3ee2"
   },
   "outputs": [
    {
     "data": {
      "text/html": [
       "<div>\n",
       "<style scoped>\n",
       "    .dataframe tbody tr th:only-of-type {\n",
       "        vertical-align: middle;\n",
       "    }\n",
       "\n",
       "    .dataframe tbody tr th {\n",
       "        vertical-align: top;\n",
       "    }\n",
       "\n",
       "    .dataframe thead th {\n",
       "        text-align: right;\n",
       "    }\n",
       "</style>\n",
       "<table border=\"1\" class=\"dataframe\">\n",
       "  <thead>\n",
       "    <tr style=\"text-align: right;\">\n",
       "      <th>num_Ticket</th>\n",
       "      <th>0</th>\n",
       "      <th>1</th>\n",
       "    </tr>\n",
       "    <tr>\n",
       "      <th>Survived</th>\n",
       "      <th></th>\n",
       "      <th></th>\n",
       "    </tr>\n",
       "  </thead>\n",
       "  <tbody>\n",
       "    <tr>\n",
       "      <th>0</th>\n",
       "      <td>142</td>\n",
       "      <td>407</td>\n",
       "    </tr>\n",
       "    <tr>\n",
       "      <th>1</th>\n",
       "      <td>88</td>\n",
       "      <td>254</td>\n",
       "    </tr>\n",
       "  </tbody>\n",
       "</table>\n",
       "</div>"
      ],
      "text/plain": [
       "num_Ticket    0    1\n",
       "Survived            \n",
       "0           142  407\n",
       "1            88  254"
      ]
     },
     "metadata": {
      "tags": []
     },
     "output_type": "display_data"
    },
    {
     "data": {
      "text/html": [
       "<div>\n",
       "<style scoped>\n",
       "    .dataframe tbody tr th:only-of-type {\n",
       "        vertical-align: middle;\n",
       "    }\n",
       "\n",
       "    .dataframe tbody tr th {\n",
       "        vertical-align: top;\n",
       "    }\n",
       "\n",
       "    .dataframe thead th {\n",
       "        text-align: right;\n",
       "    }\n",
       "</style>\n",
       "<table border=\"1\" class=\"dataframe\">\n",
       "  <thead>\n",
       "    <tr style=\"text-align: right;\">\n",
       "      <th>word_Ticket</th>\n",
       "      <th>0</th>\n",
       "      <th>a4</th>\n",
       "      <th>a5</th>\n",
       "      <th>as</th>\n",
       "      <th>c</th>\n",
       "      <th>ca</th>\n",
       "      <th>casoton</th>\n",
       "      <th>fa</th>\n",
       "      <th>fc</th>\n",
       "      <th>fcc</th>\n",
       "      <th>line</th>\n",
       "      <th>pc</th>\n",
       "      <th>pp</th>\n",
       "      <th>ppp</th>\n",
       "      <th>sc</th>\n",
       "      <th>sca4</th>\n",
       "      <th>scah</th>\n",
       "      <th>scow</th>\n",
       "      <th>scparis</th>\n",
       "      <th>soc</th>\n",
       "      <th>sop</th>\n",
       "      <th>sopp</th>\n",
       "      <th>sotono2</th>\n",
       "      <th>sotonoq</th>\n",
       "      <th>sp</th>\n",
       "      <th>stono</th>\n",
       "      <th>stono2</th>\n",
       "      <th>swpp</th>\n",
       "      <th>wc</th>\n",
       "      <th>wep</th>\n",
       "    </tr>\n",
       "    <tr>\n",
       "      <th>Survived</th>\n",
       "      <th></th>\n",
       "      <th></th>\n",
       "      <th></th>\n",
       "      <th></th>\n",
       "      <th></th>\n",
       "      <th></th>\n",
       "      <th></th>\n",
       "      <th></th>\n",
       "      <th></th>\n",
       "      <th></th>\n",
       "      <th></th>\n",
       "      <th></th>\n",
       "      <th></th>\n",
       "      <th></th>\n",
       "      <th></th>\n",
       "      <th></th>\n",
       "      <th></th>\n",
       "      <th></th>\n",
       "      <th></th>\n",
       "      <th></th>\n",
       "      <th></th>\n",
       "      <th></th>\n",
       "      <th></th>\n",
       "      <th></th>\n",
       "      <th></th>\n",
       "      <th></th>\n",
       "      <th></th>\n",
       "      <th></th>\n",
       "      <th></th>\n",
       "      <th></th>\n",
       "    </tr>\n",
       "  </thead>\n",
       "  <tbody>\n",
       "    <tr>\n",
       "      <th>0</th>\n",
       "      <td>407.0</td>\n",
       "      <td>7.0</td>\n",
       "      <td>19.0</td>\n",
       "      <td>1.0</td>\n",
       "      <td>3.0</td>\n",
       "      <td>27.0</td>\n",
       "      <td>1.0</td>\n",
       "      <td>1.0</td>\n",
       "      <td>1.0</td>\n",
       "      <td>1.0</td>\n",
       "      <td>3.0</td>\n",
       "      <td>21.0</td>\n",
       "      <td>1.0</td>\n",
       "      <td>1.0</td>\n",
       "      <td>NaN</td>\n",
       "      <td>1.0</td>\n",
       "      <td>1.0</td>\n",
       "      <td>1.0</td>\n",
       "      <td>6.0</td>\n",
       "      <td>5.0</td>\n",
       "      <td>1.0</td>\n",
       "      <td>3.0</td>\n",
       "      <td>2.0</td>\n",
       "      <td>13.0</td>\n",
       "      <td>1.0</td>\n",
       "      <td>7.0</td>\n",
       "      <td>3.0</td>\n",
       "      <td>NaN</td>\n",
       "      <td>9.0</td>\n",
       "      <td>2.0</td>\n",
       "    </tr>\n",
       "    <tr>\n",
       "      <th>1</th>\n",
       "      <td>254.0</td>\n",
       "      <td>NaN</td>\n",
       "      <td>2.0</td>\n",
       "      <td>NaN</td>\n",
       "      <td>2.0</td>\n",
       "      <td>14.0</td>\n",
       "      <td>NaN</td>\n",
       "      <td>NaN</td>\n",
       "      <td>NaN</td>\n",
       "      <td>4.0</td>\n",
       "      <td>1.0</td>\n",
       "      <td>39.0</td>\n",
       "      <td>2.0</td>\n",
       "      <td>1.0</td>\n",
       "      <td>1.0</td>\n",
       "      <td>NaN</td>\n",
       "      <td>2.0</td>\n",
       "      <td>NaN</td>\n",
       "      <td>5.0</td>\n",
       "      <td>1.0</td>\n",
       "      <td>NaN</td>\n",
       "      <td>NaN</td>\n",
       "      <td>NaN</td>\n",
       "      <td>2.0</td>\n",
       "      <td>NaN</td>\n",
       "      <td>5.0</td>\n",
       "      <td>3.0</td>\n",
       "      <td>2.0</td>\n",
       "      <td>1.0</td>\n",
       "      <td>1.0</td>\n",
       "    </tr>\n",
       "  </tbody>\n",
       "</table>\n",
       "</div>"
      ],
      "text/plain": [
       "word_Ticket      0   a4    a5   as    c  ...  stono  stono2  swpp   wc  wep\n",
       "Survived                                 ...                               \n",
       "0            407.0  7.0  19.0  1.0  3.0  ...    7.0     3.0   NaN  9.0  2.0\n",
       "1            254.0  NaN   2.0  NaN  2.0  ...    5.0     3.0   2.0  1.0  1.0\n",
       "\n",
       "[2 rows x 30 columns]"
      ]
     },
     "metadata": {
      "tags": []
     },
     "output_type": "display_data"
    }
   ],
   "source": [
    "# We goint to pretend that there is a relatión between the ticket ID and the survivors\n",
    "#   We take two new features\n",
    "#      1. If a ticket is a number, change to 1\n",
    "#      2. If a ticket start with a letter, take that string of letters. This technique is so risky, because in our test set could be a new string and will be in trouble\n",
    "countbyTicket = DBtrain['Ticket'].value_counts()#.sort_values(ascending = False)\n",
    "DBtrain['num_Ticket'] = DBtrain['Ticket'].apply(lambda x: 1 if x.isnumeric() else 0)\n",
    "DBtrain['word_Ticket'] = DBtrain['Ticket'].apply(lambda x: x.split(' ')[0].replace('.', '').replace('/','').lower() if not x.split(' ')[0].isnumeric() else 0)\n",
    "#print(DBtrain['num_Ticket'].value_counts())\n",
    "#print(DBtrain['word_Ticket'].value_counts())\n",
    "_ = pd.pivot_table(DBtrain, columns= 'num_Ticket', index= 'Survived',values= 'Ticket',aggfunc='count')\n",
    "display(_)\n",
    "_ = pd.pivot_table(DBtrain, columns= 'word_Ticket', index= 'Survived',values= 'Ticket',aggfunc='count')\n",
    "display(_)"
   ]
  },
  {
   "cell_type": "markdown",
   "metadata": {
    "id": "Twyw9UqyNrgp"
   },
   "source": [
    " We can't see any relationship, even those repeat more than 20%\n",
    " * We can drop Ticket Feature"
   ]
  },
  {
   "cell_type": "code",
   "execution_count": 29,
   "metadata": {
    "executionInfo": {
     "elapsed": 1433,
     "status": "ok",
     "timestamp": 1609814278525,
     "user": {
      "displayName": "David Castillo",
      "photoUrl": "https://lh3.googleusercontent.com/a-/AOh14Gg5XtOH3psM7ovC3D5p28SlHs4XVyU8gb-DXTurmF8=s64",
      "userId": "09801156893445499453"
     },
     "user_tz": 300
    },
    "id": "mccU8x0ONrgp"
   },
   "outputs": [],
   "source": [
    "DBtrain=DBtrain.drop(columns=['Ticket','num_Ticket','word_Ticket'])"
   ]
  },
  {
   "cell_type": "markdown",
   "metadata": {
    "id": "MHYLyp3JNrgp"
   },
   "source": [
    "### FE - Fill Nan values\n",
    "Like humans we can't see the whole data in a single look, to achieve we aggregate data, reading the count, uniquisity and distribution behavior of the data.\n",
    "\n",
    "That exactly what we goint to do next"
   ]
  },
  {
   "cell_type": "markdown",
   "metadata": {
    "id": "vZGHNg43Nrgp"
   },
   "source": [
    "* Behavior of categorical data"
   ]
  },
  {
   "cell_type": "code",
   "execution_count": 30,
   "metadata": {
    "colab": {
     "base_uri": "https://localhost:8080/",
     "height": 171
    },
    "executionInfo": {
     "elapsed": 820,
     "status": "ok",
     "timestamp": 1609814287248,
     "user": {
      "displayName": "David Castillo",
      "photoUrl": "https://lh3.googleusercontent.com/a-/AOh14Gg5XtOH3psM7ovC3D5p28SlHs4XVyU8gb-DXTurmF8=s64",
      "userId": "09801156893445499453"
     },
     "user_tz": 300
    },
    "id": "ClEmgyMcNrgp",
    "outputId": "d680209c-e458-4ffe-9281-fcb8c4c7aa8d"
   },
   "outputs": [
    {
     "data": {
      "text/html": [
       "<div>\n",
       "<style scoped>\n",
       "    .dataframe tbody tr th:only-of-type {\n",
       "        vertical-align: middle;\n",
       "    }\n",
       "\n",
       "    .dataframe tbody tr th {\n",
       "        vertical-align: top;\n",
       "    }\n",
       "\n",
       "    .dataframe thead th {\n",
       "        text-align: right;\n",
       "    }\n",
       "</style>\n",
       "<table border=\"1\" class=\"dataframe\">\n",
       "  <thead>\n",
       "    <tr style=\"text-align: right;\">\n",
       "      <th></th>\n",
       "      <th>Name</th>\n",
       "      <th>Sex</th>\n",
       "      <th>Cabin</th>\n",
       "      <th>Embarked</th>\n",
       "      <th>AgeBand</th>\n",
       "      <th>FareBand</th>\n",
       "      <th>accompanied</th>\n",
       "      <th>w_Cabin</th>\n",
       "      <th>title_Name</th>\n",
       "    </tr>\n",
       "  </thead>\n",
       "  <tbody>\n",
       "    <tr>\n",
       "      <th>count</th>\n",
       "      <td>891</td>\n",
       "      <td>891</td>\n",
       "      <td>204</td>\n",
       "      <td>889</td>\n",
       "      <td>714</td>\n",
       "      <td>891</td>\n",
       "      <td>891</td>\n",
       "      <td>891</td>\n",
       "      <td>891</td>\n",
       "    </tr>\n",
       "    <tr>\n",
       "      <th>unique</th>\n",
       "      <td>891</td>\n",
       "      <td>2</td>\n",
       "      <td>147</td>\n",
       "      <td>3</td>\n",
       "      <td>5</td>\n",
       "      <td>5</td>\n",
       "      <td>8</td>\n",
       "      <td>9</td>\n",
       "      <td>5</td>\n",
       "    </tr>\n",
       "    <tr>\n",
       "      <th>top</th>\n",
       "      <td>Levy, Mr. Rene Jacques</td>\n",
       "      <td>male</td>\n",
       "      <td>B96 B98</td>\n",
       "      <td>S</td>\n",
       "      <td>(16.0, 32.0]</td>\n",
       "      <td>(-1, 85]</td>\n",
       "      <td>0</td>\n",
       "      <td>nn</td>\n",
       "      <td>Mr</td>\n",
       "    </tr>\n",
       "    <tr>\n",
       "      <th>freq</th>\n",
       "      <td>1</td>\n",
       "      <td>577</td>\n",
       "      <td>4</td>\n",
       "      <td>644</td>\n",
       "      <td>346</td>\n",
       "      <td>825</td>\n",
       "      <td>537</td>\n",
       "      <td>687</td>\n",
       "      <td>517</td>\n",
       "    </tr>\n",
       "  </tbody>\n",
       "</table>\n",
       "</div>"
      ],
      "text/plain": [
       "                          Name   Sex    Cabin  ... accompanied w_Cabin title_Name\n",
       "count                      891   891      204  ...         891     891        891\n",
       "unique                     891     2      147  ...           8       9          5\n",
       "top     Levy, Mr. Rene Jacques  male  B96 B98  ...           0      nn         Mr\n",
       "freq                         1   577        4  ...         537     687        517\n",
       "\n",
       "[4 rows x 9 columns]"
      ]
     },
     "execution_count": 30,
     "metadata": {
      "tags": []
     },
     "output_type": "execute_result"
    }
   ],
   "source": [
    "DBtrain.describe(include=['object','category'])"
   ]
  },
  {
   "cell_type": "markdown",
   "metadata": {
    "id": "BhpjDMGNNrgp"
   },
   "source": [
    "* Behavior of numerical data\n",
    "    * we detect that Some values of Fare are 0 ¿? could be an error or a gifs"
   ]
  },
  {
   "cell_type": "code",
   "execution_count": 31,
   "metadata": {
    "colab": {
     "base_uri": "https://localhost:8080/",
     "height": 294
    },
    "executionInfo": {
     "elapsed": 710,
     "status": "ok",
     "timestamp": 1609814305226,
     "user": {
      "displayName": "David Castillo",
      "photoUrl": "https://lh3.googleusercontent.com/a-/AOh14Gg5XtOH3psM7ovC3D5p28SlHs4XVyU8gb-DXTurmF8=s64",
      "userId": "09801156893445499453"
     },
     "user_tz": 300
    },
    "id": "DRfU0g8CNrgq",
    "outputId": "464e6f8c-e501-4c7b-c0e0-7865b7633928"
   },
   "outputs": [
    {
     "data": {
      "text/html": [
       "<div>\n",
       "<style scoped>\n",
       "    .dataframe tbody tr th:only-of-type {\n",
       "        vertical-align: middle;\n",
       "    }\n",
       "\n",
       "    .dataframe tbody tr th {\n",
       "        vertical-align: top;\n",
       "    }\n",
       "\n",
       "    .dataframe thead th {\n",
       "        text-align: right;\n",
       "    }\n",
       "</style>\n",
       "<table border=\"1\" class=\"dataframe\">\n",
       "  <thead>\n",
       "    <tr style=\"text-align: right;\">\n",
       "      <th></th>\n",
       "      <th>PassengerId</th>\n",
       "      <th>Survived</th>\n",
       "      <th>Pclass</th>\n",
       "      <th>Age</th>\n",
       "      <th>SibSp</th>\n",
       "      <th>Parch</th>\n",
       "      <th>Fare</th>\n",
       "      <th>n_parents</th>\n",
       "      <th>Count_Cabin</th>\n",
       "      <th>b_Cabin</th>\n",
       "    </tr>\n",
       "  </thead>\n",
       "  <tbody>\n",
       "    <tr>\n",
       "      <th>count</th>\n",
       "      <td>891.000000</td>\n",
       "      <td>891.000000</td>\n",
       "      <td>891.000000</td>\n",
       "      <td>714.000000</td>\n",
       "      <td>891.000000</td>\n",
       "      <td>891.000000</td>\n",
       "      <td>891.000000</td>\n",
       "      <td>891.000000</td>\n",
       "      <td>891.000000</td>\n",
       "      <td>891.000000</td>\n",
       "    </tr>\n",
       "    <tr>\n",
       "      <th>mean</th>\n",
       "      <td>446.000000</td>\n",
       "      <td>0.383838</td>\n",
       "      <td>2.308642</td>\n",
       "      <td>29.699118</td>\n",
       "      <td>0.523008</td>\n",
       "      <td>0.381594</td>\n",
       "      <td>32.204208</td>\n",
       "      <td>0.904602</td>\n",
       "      <td>0.267116</td>\n",
       "      <td>0.228956</td>\n",
       "    </tr>\n",
       "    <tr>\n",
       "      <th>std</th>\n",
       "      <td>257.353842</td>\n",
       "      <td>0.486592</td>\n",
       "      <td>0.836071</td>\n",
       "      <td>14.526497</td>\n",
       "      <td>1.102743</td>\n",
       "      <td>0.806057</td>\n",
       "      <td>49.693429</td>\n",
       "      <td>1.613459</td>\n",
       "      <td>0.547134</td>\n",
       "      <td>0.420397</td>\n",
       "    </tr>\n",
       "    <tr>\n",
       "      <th>min</th>\n",
       "      <td>1.000000</td>\n",
       "      <td>0.000000</td>\n",
       "      <td>1.000000</td>\n",
       "      <td>0.420000</td>\n",
       "      <td>0.000000</td>\n",
       "      <td>0.000000</td>\n",
       "      <td>0.000000</td>\n",
       "      <td>0.000000</td>\n",
       "      <td>0.000000</td>\n",
       "      <td>0.000000</td>\n",
       "    </tr>\n",
       "    <tr>\n",
       "      <th>25%</th>\n",
       "      <td>223.500000</td>\n",
       "      <td>0.000000</td>\n",
       "      <td>2.000000</td>\n",
       "      <td>20.125000</td>\n",
       "      <td>0.000000</td>\n",
       "      <td>0.000000</td>\n",
       "      <td>7.910400</td>\n",
       "      <td>0.000000</td>\n",
       "      <td>0.000000</td>\n",
       "      <td>0.000000</td>\n",
       "    </tr>\n",
       "    <tr>\n",
       "      <th>50%</th>\n",
       "      <td>446.000000</td>\n",
       "      <td>0.000000</td>\n",
       "      <td>3.000000</td>\n",
       "      <td>28.000000</td>\n",
       "      <td>0.000000</td>\n",
       "      <td>0.000000</td>\n",
       "      <td>14.454200</td>\n",
       "      <td>0.000000</td>\n",
       "      <td>0.000000</td>\n",
       "      <td>0.000000</td>\n",
       "    </tr>\n",
       "    <tr>\n",
       "      <th>75%</th>\n",
       "      <td>668.500000</td>\n",
       "      <td>1.000000</td>\n",
       "      <td>3.000000</td>\n",
       "      <td>38.000000</td>\n",
       "      <td>1.000000</td>\n",
       "      <td>0.000000</td>\n",
       "      <td>31.000000</td>\n",
       "      <td>1.000000</td>\n",
       "      <td>0.000000</td>\n",
       "      <td>0.000000</td>\n",
       "    </tr>\n",
       "    <tr>\n",
       "      <th>max</th>\n",
       "      <td>891.000000</td>\n",
       "      <td>1.000000</td>\n",
       "      <td>3.000000</td>\n",
       "      <td>80.000000</td>\n",
       "      <td>8.000000</td>\n",
       "      <td>6.000000</td>\n",
       "      <td>512.329200</td>\n",
       "      <td>10.000000</td>\n",
       "      <td>4.000000</td>\n",
       "      <td>1.000000</td>\n",
       "    </tr>\n",
       "  </tbody>\n",
       "</table>\n",
       "</div>"
      ],
      "text/plain": [
       "       PassengerId    Survived      Pclass  ...   n_parents  Count_Cabin     b_Cabin\n",
       "count   891.000000  891.000000  891.000000  ...  891.000000   891.000000  891.000000\n",
       "mean    446.000000    0.383838    2.308642  ...    0.904602     0.267116    0.228956\n",
       "std     257.353842    0.486592    0.836071  ...    1.613459     0.547134    0.420397\n",
       "min       1.000000    0.000000    1.000000  ...    0.000000     0.000000    0.000000\n",
       "25%     223.500000    0.000000    2.000000  ...    0.000000     0.000000    0.000000\n",
       "50%     446.000000    0.000000    3.000000  ...    0.000000     0.000000    0.000000\n",
       "75%     668.500000    1.000000    3.000000  ...    1.000000     0.000000    0.000000\n",
       "max     891.000000    1.000000    3.000000  ...   10.000000     4.000000    1.000000\n",
       "\n",
       "[8 rows x 10 columns]"
      ]
     },
     "execution_count": 31,
     "metadata": {
      "tags": []
     },
     "output_type": "execute_result"
    }
   ],
   "source": [
    "DBtrain.describe()"
   ]
  },
  {
   "cell_type": "code",
   "execution_count": null,
   "metadata": {
    "id": "VDfyHY0TNrgq",
    "outputId": "ac29ad4e-176a-402f-dfe0-01d2d2c174e3"
   },
   "outputs": [
    {
     "name": "stdout",
     "output_type": "stream",
     "text": [
      "<class 'pandas.core.frame.DataFrame'>\n",
      "RangeIndex: 891 entries, 0 to 890\n",
      "Data columns (total 19 columns):\n",
      "PassengerId    891 non-null int64\n",
      "Survived       891 non-null int64\n",
      "Pclass         891 non-null int64\n",
      "Name           891 non-null object\n",
      "Sex            891 non-null object\n",
      "Age            714 non-null float64\n",
      "SibSp          891 non-null int64\n",
      "Parch          891 non-null int64\n",
      "Fare           891 non-null float64\n",
      "Cabin          204 non-null object\n",
      "Embarked       889 non-null object\n",
      "AgeBand        714 non-null category\n",
      "FareBand       876 non-null category\n",
      "n_parents      891 non-null int64\n",
      "accompanied    891 non-null object\n",
      "Count_Cabin    891 non-null int64\n",
      "w_Cabin        891 non-null object\n",
      "b_Cabin        891 non-null int64\n",
      "title_Name     891 non-null object\n",
      "dtypes: category(2), float64(2), int64(8), object(7)\n",
      "memory usage: 120.7+ KB\n"
     ]
    }
   ],
   "source": [
    "DBtrain.info()"
   ]
  },
  {
   "cell_type": "markdown",
   "metadata": {
    "id": "kG_q4B5-Nrgq"
   },
   "source": [
    "* We see that AGe have Nan values, so we have to impute data (mean)\n",
    "* We see thar Embarked have Nan Values, so we have to imute data categorical (moda)\n",
    "* Cabin habe only 204 values, but we already study this feature"
   ]
  },
  {
   "cell_type": "markdown",
   "metadata": {
    "id": "Bu4XoqMQNrgq"
   },
   "source": [
    "* Age => complete the nan values with mean value\n",
    "* Embarked => Complete the nan values with the mode, which is S"
   ]
  },
  {
   "cell_type": "code",
   "execution_count": 33,
   "metadata": {
    "colab": {
     "base_uri": "https://localhost:8080/",
     "height": 35
    },
    "executionInfo": {
     "elapsed": 701,
     "status": "ok",
     "timestamp": 1609814703066,
     "user": {
      "displayName": "David Castillo",
      "photoUrl": "https://lh3.googleusercontent.com/a-/AOh14Gg5XtOH3psM7ovC3D5p28SlHs4XVyU8gb-DXTurmF8=s64",
      "userId": "09801156893445499453"
     },
     "user_tz": 300
    },
    "id": "P7mi6T7eNrgq",
    "outputId": "d9c9f99c-5ec9-4a76-c201-3c483b58ad7c"
   },
   "outputs": [
    {
     "data": {
      "application/vnd.google.colaboratory.intrinsic+json": {
       "type": "string"
      },
      "text/plain": [
       "'S'"
      ]
     },
     "execution_count": 33,
     "metadata": {
      "tags": []
     },
     "output_type": "execute_result"
    }
   ],
   "source": [
    "DBtrain['Embarked'].mode()[0]"
   ]
  },
  {
   "cell_type": "markdown",
   "metadata": {
    "id": "5JK62qdpNrgr"
   },
   "source": [
    "We take the \"Age\" media value using Sex and Pclass, to fill the nan values in Age feature"
   ]
  },
  {
   "cell_type": "code",
   "execution_count": 34,
   "metadata": {
    "executionInfo": {
     "elapsed": 815,
     "status": "ok",
     "timestamp": 1609814708174,
     "user": {
      "displayName": "David Castillo",
      "photoUrl": "https://lh3.googleusercontent.com/a-/AOh14Gg5XtOH3psM7ovC3D5p28SlHs4XVyU8gb-DXTurmF8=s64",
      "userId": "09801156893445499453"
     },
     "user_tz": 300
    },
    "id": "8BQe3d1aNrgr"
   },
   "outputs": [],
   "source": [
    "media_age = DBtrain.dropna(subset=['Age'])[['Age','Pclass','Sex','Embarked']].groupby(['Pclass','Sex','Embarked'], as_index=False ).mean().sort_values(by='Age', ascending=True)\n",
    "def impute_years(x):\n",
    "    if x['Age'] == x['Age']:\n",
    "        return x['Age']\n",
    "    else:\n",
    "        return media_age.loc[media_age['Pclass']==x['Pclass'] , ['Age', 'Sex','Embarked']].loc[media_age['Sex']==x['Sex'] , ['Age','Embarked']].loc[media_age['Embarked']==x['Embarked'] , ['Age']]['Age'].tolist()[0]"
   ]
  },
  {
   "cell_type": "code",
   "execution_count": 36,
   "metadata": {
    "colab": {
     "base_uri": "https://localhost:8080/"
    },
    "executionInfo": {
     "elapsed": 846,
     "status": "ok",
     "timestamp": 1609815553345,
     "user": {
      "displayName": "David Castillo",
      "photoUrl": "https://lh3.googleusercontent.com/a-/AOh14Gg5XtOH3psM7ovC3D5p28SlHs4XVyU8gb-DXTurmF8=s64",
      "userId": "09801156893445499453"
     },
     "user_tz": 300
    },
    "id": "RLKjK124Nrgr",
    "outputId": "e6b5a34e-59df-4724-8ed7-ee4ed8e04fdc"
   },
   "outputs": [
    {
     "name": "stdout",
     "output_type": "stream",
     "text": [
      "<class 'pandas.core.frame.DataFrame'>\n",
      "RangeIndex: 891 entries, 0 to 890\n",
      "Data columns (total 19 columns):\n",
      " #   Column       Non-Null Count  Dtype   \n",
      "---  ------       --------------  -----   \n",
      " 0   PassengerId  891 non-null    int64   \n",
      " 1   Survived     891 non-null    int64   \n",
      " 2   Pclass       891 non-null    int64   \n",
      " 3   Name         891 non-null    object  \n",
      " 4   Sex          891 non-null    object  \n",
      " 5   Age          891 non-null    float64 \n",
      " 6   SibSp        891 non-null    int64   \n",
      " 7   Parch        891 non-null    int64   \n",
      " 8   Fare         891 non-null    float64 \n",
      " 9   Cabin        204 non-null    object  \n",
      " 10  Embarked     891 non-null    object  \n",
      " 11  AgeBand      891 non-null    category\n",
      " 12  FareBand     891 non-null    category\n",
      " 13  n_parents    891 non-null    int64   \n",
      " 14  accompanied  891 non-null    object  \n",
      " 15  Count_Cabin  891 non-null    int64   \n",
      " 16  w_Cabin      891 non-null    object  \n",
      " 17  b_Cabin      891 non-null    int64   \n",
      " 18  title_Name   891 non-null    object  \n",
      "dtypes: category(2), float64(2), int64(8), object(7)\n",
      "memory usage: 120.7+ KB\n"
     ]
    }
   ],
   "source": [
    "DBtrain['Embarked'] = DBtrain['Embarked'].fillna(DBtrain['Embarked'].mode()[0])\n",
    "DBtrain['Age'] = DBtrain.apply(impute_years, axis=1)# DBtrain['Age'].fillna( DBtrain['Age'].mean())\n",
    "DBtrain['AgeBand'] = pd.cut(DBtrain['Age'], [min(0,DBtrain['Fare'].min()),16,32,48,64,max(100,DBtrain['Age'].max())])\n",
    "DBtrain.info()"
   ]
  },
  {
   "cell_type": "markdown",
   "metadata": {
    "id": "PJo-asXNNrgr"
   },
   "source": [
    "### FE - Normalizing Data\n",
    "We saw that we could normalize the fare value, so we will try take the log10 to the fare value and see how it behaves\n",
    "\n",
    "The transform result pretty useful, delivering a good normal distributión"
   ]
  },
  {
   "cell_type": "code",
   "execution_count": 37,
   "metadata": {
    "colab": {
     "base_uri": "https://localhost:8080/",
     "height": 353
    },
    "executionInfo": {
     "elapsed": 940,
     "status": "ok",
     "timestamp": 1609815592829,
     "user": {
      "displayName": "David Castillo",
      "photoUrl": "https://lh3.googleusercontent.com/a-/AOh14Gg5XtOH3psM7ovC3D5p28SlHs4XVyU8gb-DXTurmF8=s64",
      "userId": "09801156893445499453"
     },
     "user_tz": 300
    },
    "id": "wTDYwqrgNrgr",
    "outputId": "075f2303-a86c-4e51-d9c5-57e5a243a983"
   },
   "outputs": [
    {
     "data": {
      "text/plain": [
       "Text(0.5, 1.0, 'Fare normalized')"
      ]
     },
     "execution_count": 37,
     "metadata": {
      "tags": []
     },
     "output_type": "execute_result"
    },
    {
     "data": {
      "image/png": "[encoded data removed]",
      "text/plain": [
       "<Figure size 720x360 with 1 Axes>"
      ]
     },
     "metadata": {
      "needs_background": "light",
      "tags": []
     },
     "output_type": "display_data"
    }
   ],
   "source": [
    "# On \"Histogram for numerical Data\" we saw that \"Fare\" is not normalize, the distance between his values are significance\n",
    "#     We try to normalize that data, taken the logarithm10 to those values\n",
    "rcParams['figure.figsize'] = 10, 5\n",
    "DBtrain['norm_Fare']= DBtrain['Fare'].apply(lambda x : np.log10(x+1))\n",
    "#DBtrain['norm_Fare']= DBtrain['norm_Fare']\n",
    "DBtrain['norm_Fare'].hist().set_title('Fare normalized')\n",
    "# we can see that the histogram look like a normal distributions more accurate"
   ]
  },
  {
   "cell_type": "markdown",
   "metadata": {
    "id": "ySW6UdK6Nrgs"
   },
   "source": [
    "# Pre-processing data to Train Models\n",
    "Because we have categorical data, we need to transform all the categorical data into arrays that our model can interpretate,\n",
    "we can use pd.dummies or hot-encode, in this case are equal, also we need to drop the columns that we dont use anymore"
   ]
  },
  {
   "cell_type": "code",
   "execution_count": 38,
   "metadata": {
    "colab": {
     "base_uri": "https://localhost:8080/",
     "height": 286
    },
    "executionInfo": {
     "elapsed": 878,
     "status": "ok",
     "timestamp": 1609816294060,
     "user": {
      "displayName": "David Castillo",
      "photoUrl": "https://lh3.googleusercontent.com/a-/AOh14Gg5XtOH3psM7ovC3D5p28SlHs4XVyU8gb-DXTurmF8=s64",
      "userId": "09801156893445499453"
     },
     "user_tz": 300
    },
    "id": "Vw-CHZsZNrgs",
    "outputId": "cf684b1a-be16-46ac-c29b-e9eda917614f"
   },
   "outputs": [
    {
     "data": {
      "text/html": [
       "<div>\n",
       "<style scoped>\n",
       "    .dataframe tbody tr th:only-of-type {\n",
       "        vertical-align: middle;\n",
       "    }\n",
       "\n",
       "    .dataframe tbody tr th {\n",
       "        vertical-align: top;\n",
       "    }\n",
       "\n",
       "    .dataframe thead th {\n",
       "        text-align: right;\n",
       "    }\n",
       "</style>\n",
       "<table border=\"1\" class=\"dataframe\">\n",
       "  <thead>\n",
       "    <tr style=\"text-align: right;\">\n",
       "      <th></th>\n",
       "      <th>PassengerId</th>\n",
       "      <th>Survived</th>\n",
       "      <th>Pclass</th>\n",
       "      <th>Name</th>\n",
       "      <th>Sex</th>\n",
       "      <th>Age</th>\n",
       "      <th>SibSp</th>\n",
       "      <th>Parch</th>\n",
       "      <th>Fare</th>\n",
       "      <th>Cabin</th>\n",
       "      <th>Embarked</th>\n",
       "      <th>AgeBand</th>\n",
       "      <th>FareBand</th>\n",
       "      <th>n_parents</th>\n",
       "      <th>accompanied</th>\n",
       "      <th>Count_Cabin</th>\n",
       "      <th>w_Cabin</th>\n",
       "      <th>b_Cabin</th>\n",
       "      <th>title_Name</th>\n",
       "      <th>norm_Fare</th>\n",
       "    </tr>\n",
       "  </thead>\n",
       "  <tbody>\n",
       "    <tr>\n",
       "      <th>0</th>\n",
       "      <td>1</td>\n",
       "      <td>0</td>\n",
       "      <td>3</td>\n",
       "      <td>Braund, Mr. Owen Harris</td>\n",
       "      <td>male</td>\n",
       "      <td>22.0</td>\n",
       "      <td>1</td>\n",
       "      <td>0</td>\n",
       "      <td>7.2500</td>\n",
       "      <td>NaN</td>\n",
       "      <td>S</td>\n",
       "      <td>(16, 32]</td>\n",
       "      <td>(-1, 85]</td>\n",
       "      <td>1</td>\n",
       "      <td>1</td>\n",
       "      <td>0</td>\n",
       "      <td>nn</td>\n",
       "      <td>0</td>\n",
       "      <td>Mr</td>\n",
       "      <td>0.916454</td>\n",
       "    </tr>\n",
       "    <tr>\n",
       "      <th>1</th>\n",
       "      <td>2</td>\n",
       "      <td>1</td>\n",
       "      <td>1</td>\n",
       "      <td>Cumings, Mrs. John Bradley (Florence Briggs Th...</td>\n",
       "      <td>female</td>\n",
       "      <td>38.0</td>\n",
       "      <td>1</td>\n",
       "      <td>0</td>\n",
       "      <td>71.2833</td>\n",
       "      <td>C85</td>\n",
       "      <td>C</td>\n",
       "      <td>(32, 48]</td>\n",
       "      <td>(-1, 85]</td>\n",
       "      <td>1</td>\n",
       "      <td>1</td>\n",
       "      <td>1</td>\n",
       "      <td>C</td>\n",
       "      <td>1</td>\n",
       "      <td>Mrs</td>\n",
       "      <td>1.859038</td>\n",
       "    </tr>\n",
       "  </tbody>\n",
       "</table>\n",
       "</div>"
      ],
      "text/plain": [
       "   PassengerId  Survived  Pclass  ... b_Cabin title_Name  norm_Fare\n",
       "0            1         0       3  ...       0         Mr   0.916454\n",
       "1            2         1       1  ...       1        Mrs   1.859038\n",
       "\n",
       "[2 rows x 20 columns]"
      ]
     },
     "execution_count": 38,
     "metadata": {
      "tags": []
     },
     "output_type": "execute_result"
    }
   ],
   "source": [
    "DBtrain.head(2)"
   ]
  },
  {
   "cell_type": "markdown",
   "metadata": {
    "id": "JcvBBpYANrgs"
   },
   "source": [
    "* Data set modeling with all feature categorical"
   ]
  },
  {
   "cell_type": "code",
   "execution_count": null,
   "metadata": {
    "id": "IQdeEx-yNrgs",
    "outputId": "624c481e-d82f-446b-84ca-0e223d55e700"
   },
   "outputs": [
    {
     "name": "stdout",
     "output_type": "stream",
     "text": [
      "<class 'pandas.core.frame.DataFrame'>\n",
      "Int64Index: 891 entries, 1 to 891\n",
      "Data columns (total 9 columns):\n",
      "Survived       891 non-null int64\n",
      "Pclass         891 non-null object\n",
      "Sex            891 non-null object\n",
      "Embarked       891 non-null object\n",
      "AgeBand        891 non-null object\n",
      "FareBand       891 non-null object\n",
      "accompanied    891 non-null object\n",
      "b_Cabin        891 non-null object\n",
      "title_Name     891 non-null object\n",
      "dtypes: int64(1), object(8)\n",
      "memory usage: 69.6+ KB\n"
     ]
    },
    {
     "data": {
      "text/html": [
       "<div>\n",
       "<style scoped>\n",
       "    .dataframe tbody tr th:only-of-type {\n",
       "        vertical-align: middle;\n",
       "    }\n",
       "\n",
       "    .dataframe tbody tr th {\n",
       "        vertical-align: top;\n",
       "    }\n",
       "\n",
       "    .dataframe thead th {\n",
       "        text-align: right;\n",
       "    }\n",
       "</style>\n",
       "<table border=\"1\" class=\"dataframe\">\n",
       "  <thead>\n",
       "    <tr style=\"text-align: right;\">\n",
       "      <th></th>\n",
       "      <th>Survived</th>\n",
       "      <th>Pclass</th>\n",
       "      <th>Sex</th>\n",
       "      <th>Embarked</th>\n",
       "      <th>AgeBand</th>\n",
       "      <th>FareBand</th>\n",
       "      <th>accompanied</th>\n",
       "      <th>b_Cabin</th>\n",
       "      <th>title_Name</th>\n",
       "    </tr>\n",
       "    <tr>\n",
       "      <th>PassengerId</th>\n",
       "      <th></th>\n",
       "      <th></th>\n",
       "      <th></th>\n",
       "      <th></th>\n",
       "      <th></th>\n",
       "      <th></th>\n",
       "      <th></th>\n",
       "      <th></th>\n",
       "      <th></th>\n",
       "    </tr>\n",
       "  </thead>\n",
       "  <tbody>\n",
       "    <tr>\n",
       "      <th>1</th>\n",
       "      <td>0</td>\n",
       "      <td>3</td>\n",
       "      <td>male</td>\n",
       "      <td>S</td>\n",
       "      <td>16_ 32</td>\n",
       "      <td>0.0_ 85.0</td>\n",
       "      <td>1</td>\n",
       "      <td>0</td>\n",
       "      <td>Mr</td>\n",
       "    </tr>\n",
       "    <tr>\n",
       "      <th>2</th>\n",
       "      <td>1</td>\n",
       "      <td>1</td>\n",
       "      <td>female</td>\n",
       "      <td>C</td>\n",
       "      <td>32_ 48</td>\n",
       "      <td>0.0_ 85.0</td>\n",
       "      <td>1</td>\n",
       "      <td>1</td>\n",
       "      <td>Mrs</td>\n",
       "    </tr>\n",
       "    <tr>\n",
       "      <th>3</th>\n",
       "      <td>1</td>\n",
       "      <td>3</td>\n",
       "      <td>female</td>\n",
       "      <td>S</td>\n",
       "      <td>16_ 32</td>\n",
       "      <td>0.0_ 85.0</td>\n",
       "      <td>0</td>\n",
       "      <td>0</td>\n",
       "      <td>Miss</td>\n",
       "    </tr>\n",
       "    <tr>\n",
       "      <th>4</th>\n",
       "      <td>1</td>\n",
       "      <td>1</td>\n",
       "      <td>female</td>\n",
       "      <td>S</td>\n",
       "      <td>32_ 48</td>\n",
       "      <td>0.0_ 85.0</td>\n",
       "      <td>1</td>\n",
       "      <td>1</td>\n",
       "      <td>Mrs</td>\n",
       "    </tr>\n",
       "    <tr>\n",
       "      <th>5</th>\n",
       "      <td>0</td>\n",
       "      <td>3</td>\n",
       "      <td>male</td>\n",
       "      <td>S</td>\n",
       "      <td>32_ 48</td>\n",
       "      <td>0.0_ 85.0</td>\n",
       "      <td>0</td>\n",
       "      <td>0</td>\n",
       "      <td>Mr</td>\n",
       "    </tr>\n",
       "  </tbody>\n",
       "</table>\n",
       "</div>"
      ],
      "text/plain": [
       "             Survived Pclass     Sex Embarked AgeBand   FareBand accompanied  \\\n",
       "PassengerId                                                                    \n",
       "1                   0      3    male        S  16_ 32  0.0_ 85.0           1   \n",
       "2                   1      1  female        C  32_ 48  0.0_ 85.0           1   \n",
       "3                   1      3  female        S  16_ 32  0.0_ 85.0           0   \n",
       "4                   1      1  female        S  32_ 48  0.0_ 85.0           1   \n",
       "5                   0      3    male        S  32_ 48  0.0_ 85.0           0   \n",
       "\n",
       "            b_Cabin title_Name  \n",
       "PassengerId                     \n",
       "1                 0         Mr  \n",
       "2                 1        Mrs  \n",
       "3                 0       Miss  \n",
       "4                 1        Mrs  \n",
       "5                 0         Mr  "
      ]
     },
     "execution_count": 32,
     "metadata": {
      "tags": []
     },
     "output_type": "execute_result"
    }
   ],
   "source": [
    "# Second Test\n",
    "DBtrain_f = DBtrain.copy()\n",
    "DBtrain_f.index  = DBtrain_f.PassengerId\n",
    "DBtrain_f = DBtrain_f.drop(columns=[ 'Cabin','Fare','Name','PassengerId','w_Cabin', 'Count_Cabin','n_parents','SibSp','Parch','norm_Fare','Age'])\n",
    "DBtrain_f['Pclass'] = DBtrain_f['Pclass'].astype(str) # categorical feature\n",
    "DBtrain_f['accompanied'] = DBtrain_f['accompanied'].astype(str) # categorical feature\n",
    "DBtrain_f['b_Cabin'] = DBtrain_f['b_Cabin'].astype(str) # categorical feature\n",
    "DBtrain_f['AgeBand'] = DBtrain_f['AgeBand'].astype(str) # categorical feature\n",
    "DBtrain_f['AgeBand'] = DBtrain_f['AgeBand'].apply(lambda x : x.replace('(','').replace(']','').replace(',','_'))\n",
    "DBtrain_f['FareBand'] = DBtrain_f['FareBand'].astype(str) # categorical feature\n",
    "DBtrain_f['FareBand'] = DBtrain_f['FareBand'].apply(lambda x : x.replace('(','').replace(']','').replace(',','_'))\n",
    "DBtrain_f.info()\n",
    "DBtrain_f.head()"
   ]
  },
  {
   "cell_type": "markdown",
   "metadata": {
    "id": "4tW0wBVuNrgs"
   },
   "source": [
    "* Data set modeling with Age and Fare like numerical feature"
   ]
  },
  {
   "cell_type": "code",
   "execution_count": 41,
   "metadata": {
    "colab": {
     "base_uri": "https://localhost:8080/",
     "height": 545
    },
    "executionInfo": {
     "elapsed": 699,
     "status": "ok",
     "timestamp": 1609817223912,
     "user": {
      "displayName": "David Castillo",
      "photoUrl": "https://lh3.googleusercontent.com/a-/AOh14Gg5XtOH3psM7ovC3D5p28SlHs4XVyU8gb-DXTurmF8=s64",
      "userId": "09801156893445499453"
     },
     "user_tz": 300
    },
    "id": "QaT0zLFWNrgt",
    "outputId": "7ffa0452-df5f-4844-e598-a64343cddfc6"
   },
   "outputs": [
    {
     "name": "stdout",
     "output_type": "stream",
     "text": [
      "<class 'pandas.core.frame.DataFrame'>\n",
      "Int64Index: 891 entries, 1 to 891\n",
      "Data columns (total 11 columns):\n",
      " #   Column       Non-Null Count  Dtype   \n",
      "---  ------       --------------  -----   \n",
      " 0   Survived     891 non-null    int64   \n",
      " 1   Pclass       891 non-null    object  \n",
      " 2   Sex          891 non-null    object  \n",
      " 3   Age          891 non-null    float64 \n",
      " 4   Embarked     891 non-null    object  \n",
      " 5   AgeBand      891 non-null    category\n",
      " 6   FareBand     891 non-null    category\n",
      " 7   accompanied  891 non-null    object  \n",
      " 8   b_Cabin      891 non-null    object  \n",
      " 9   title_Name   891 non-null    object  \n",
      " 10  norm_Fare    891 non-null    float64 \n",
      "dtypes: category(2), float64(2), int64(1), object(6)\n",
      "memory usage: 71.8+ KB\n"
     ]
    },
    {
     "data": {
      "text/html": [
       "<div>\n",
       "<style scoped>\n",
       "    .dataframe tbody tr th:only-of-type {\n",
       "        vertical-align: middle;\n",
       "    }\n",
       "\n",
       "    .dataframe tbody tr th {\n",
       "        vertical-align: top;\n",
       "    }\n",
       "\n",
       "    .dataframe thead th {\n",
       "        text-align: right;\n",
       "    }\n",
       "</style>\n",
       "<table border=\"1\" class=\"dataframe\">\n",
       "  <thead>\n",
       "    <tr style=\"text-align: right;\">\n",
       "      <th></th>\n",
       "      <th>Survived</th>\n",
       "      <th>Pclass</th>\n",
       "      <th>Sex</th>\n",
       "      <th>Age</th>\n",
       "      <th>Embarked</th>\n",
       "      <th>AgeBand</th>\n",
       "      <th>FareBand</th>\n",
       "      <th>accompanied</th>\n",
       "      <th>b_Cabin</th>\n",
       "      <th>title_Name</th>\n",
       "      <th>norm_Fare</th>\n",
       "    </tr>\n",
       "    <tr>\n",
       "      <th>PassengerId</th>\n",
       "      <th></th>\n",
       "      <th></th>\n",
       "      <th></th>\n",
       "      <th></th>\n",
       "      <th></th>\n",
       "      <th></th>\n",
       "      <th></th>\n",
       "      <th></th>\n",
       "      <th></th>\n",
       "      <th></th>\n",
       "      <th></th>\n",
       "    </tr>\n",
       "  </thead>\n",
       "  <tbody>\n",
       "    <tr>\n",
       "      <th>1</th>\n",
       "      <td>0</td>\n",
       "      <td>3</td>\n",
       "      <td>male</td>\n",
       "      <td>22.0</td>\n",
       "      <td>S</td>\n",
       "      <td>(16, 32]</td>\n",
       "      <td>(-1, 85]</td>\n",
       "      <td>1</td>\n",
       "      <td>0</td>\n",
       "      <td>Mr</td>\n",
       "      <td>0.916454</td>\n",
       "    </tr>\n",
       "    <tr>\n",
       "      <th>2</th>\n",
       "      <td>1</td>\n",
       "      <td>1</td>\n",
       "      <td>female</td>\n",
       "      <td>38.0</td>\n",
       "      <td>C</td>\n",
       "      <td>(32, 48]</td>\n",
       "      <td>(-1, 85]</td>\n",
       "      <td>1</td>\n",
       "      <td>1</td>\n",
       "      <td>Mrs</td>\n",
       "      <td>1.859038</td>\n",
       "    </tr>\n",
       "    <tr>\n",
       "      <th>3</th>\n",
       "      <td>1</td>\n",
       "      <td>3</td>\n",
       "      <td>female</td>\n",
       "      <td>26.0</td>\n",
       "      <td>S</td>\n",
       "      <td>(16, 32]</td>\n",
       "      <td>(-1, 85]</td>\n",
       "      <td>0</td>\n",
       "      <td>0</td>\n",
       "      <td>Miss</td>\n",
       "      <td>0.950608</td>\n",
       "    </tr>\n",
       "    <tr>\n",
       "      <th>4</th>\n",
       "      <td>1</td>\n",
       "      <td>1</td>\n",
       "      <td>female</td>\n",
       "      <td>35.0</td>\n",
       "      <td>S</td>\n",
       "      <td>(32, 48]</td>\n",
       "      <td>(-1, 85]</td>\n",
       "      <td>1</td>\n",
       "      <td>1</td>\n",
       "      <td>Mrs</td>\n",
       "      <td>1.733197</td>\n",
       "    </tr>\n",
       "    <tr>\n",
       "      <th>5</th>\n",
       "      <td>0</td>\n",
       "      <td>3</td>\n",
       "      <td>male</td>\n",
       "      <td>35.0</td>\n",
       "      <td>S</td>\n",
       "      <td>(32, 48]</td>\n",
       "      <td>(-1, 85]</td>\n",
       "      <td>0</td>\n",
       "      <td>0</td>\n",
       "      <td>Mr</td>\n",
       "      <td>0.956649</td>\n",
       "    </tr>\n",
       "  </tbody>\n",
       "</table>\n",
       "</div>"
      ],
      "text/plain": [
       "             Survived Pclass     Sex  ...  b_Cabin title_Name norm_Fare\n",
       "PassengerId                           ...                              \n",
       "1                   0      3    male  ...        0         Mr  0.916454\n",
       "2                   1      1  female  ...        1        Mrs  1.859038\n",
       "3                   1      3  female  ...        0       Miss  0.950608\n",
       "4                   1      1  female  ...        1        Mrs  1.733197\n",
       "5                   0      3    male  ...        0         Mr  0.956649\n",
       "\n",
       "[5 rows x 11 columns]"
      ]
     },
     "execution_count": 41,
     "metadata": {
      "tags": []
     },
     "output_type": "execute_result"
    }
   ],
   "source": [
    "# First test\n",
    "DBtrain_f = DBtrain.copy()\n",
    "DBtrain_f.index  = DBtrain_f.PassengerId\n",
    "DBtrain_f = DBtrain_f.drop(columns=[ 'Cabin','Fare','Name','PassengerId','w_Cabin', 'Count_Cabin','SibSp','Parch', 'n_parents' ])\n",
    "DBtrain_f['Pclass'] = DBtrain_f['Pclass'].astype(str) # categorical feature\n",
    "DBtrain_f['accompanied'] = DBtrain_f['accompanied'].astype(str) # categorical feature\n",
    "DBtrain_f['b_Cabin'] = DBtrain_f['b_Cabin'].astype(str) # categorical feature\n",
    "DBtrain_f.info()\n",
    "DBtrain_f.head()"
   ]
  },
  {
   "cell_type": "code",
   "execution_count": 44,
   "metadata": {
    "colab": {
     "base_uri": "https://localhost:8080/",
     "height": 270
    },
    "executionInfo": {
     "elapsed": 697,
     "status": "ok",
     "timestamp": 1609818419122,
     "user": {
      "displayName": "David Castillo",
      "photoUrl": "https://lh3.googleusercontent.com/a-/AOh14Gg5XtOH3psM7ovC3D5p28SlHs4XVyU8gb-DXTurmF8=s64",
      "userId": "09801156893445499453"
     },
     "user_tz": 300
    },
    "id": "ARzeEdQoNrgt",
    "outputId": "38b7ffd8-3d6a-4ec2-f5d4-d2c2103ae6fb"
   },
   "outputs": [
    {
     "data": {
      "text/html": [
       "<div>\n",
       "<style scoped>\n",
       "    .dataframe tbody tr th:only-of-type {\n",
       "        vertical-align: middle;\n",
       "    }\n",
       "\n",
       "    .dataframe tbody tr th {\n",
       "        vertical-align: top;\n",
       "    }\n",
       "\n",
       "    .dataframe thead th {\n",
       "        text-align: right;\n",
       "    }\n",
       "</style>\n",
       "<table border=\"1\" class=\"dataframe\">\n",
       "  <thead>\n",
       "    <tr style=\"text-align: right;\">\n",
       "      <th></th>\n",
       "      <th>Survived</th>\n",
       "      <th>Age</th>\n",
       "      <th>norm_Fare</th>\n",
       "      <th>Pclass_1</th>\n",
       "      <th>Pclass_2</th>\n",
       "      <th>Pclass_3</th>\n",
       "      <th>Sex_female</th>\n",
       "      <th>Sex_male</th>\n",
       "      <th>Embarked_C</th>\n",
       "      <th>Embarked_Q</th>\n",
       "      <th>Embarked_S</th>\n",
       "      <th>AgeBand_(0, 16]</th>\n",
       "      <th>AgeBand_(16, 32]</th>\n",
       "      <th>AgeBand_(32, 48]</th>\n",
       "      <th>AgeBand_(48, 64]</th>\n",
       "      <th>AgeBand_(64, 100]</th>\n",
       "      <th>FareBand_(-1, 85]</th>\n",
       "      <th>FareBand_(85, 170]</th>\n",
       "      <th>FareBand_(170, 256]</th>\n",
       "      <th>FareBand_(256, 426]</th>\n",
       "      <th>FareBand_(426, 600]</th>\n",
       "      <th>accompanied_0</th>\n",
       "      <th>accompanied_1</th>\n",
       "      <th>accompanied_2</th>\n",
       "      <th>accompanied_3</th>\n",
       "      <th>accompanied_4</th>\n",
       "      <th>accompanied_5</th>\n",
       "      <th>accompanied_6</th>\n",
       "      <th>accompanied_nn</th>\n",
       "      <th>b_Cabin_0</th>\n",
       "      <th>b_Cabin_1</th>\n",
       "      <th>title_Name_Master</th>\n",
       "      <th>title_Name_Miss</th>\n",
       "      <th>title_Name_Mr</th>\n",
       "      <th>title_Name_Mrs</th>\n",
       "      <th>title_Name_Others</th>\n",
       "    </tr>\n",
       "    <tr>\n",
       "      <th>PassengerId</th>\n",
       "      <th></th>\n",
       "      <th></th>\n",
       "      <th></th>\n",
       "      <th></th>\n",
       "      <th></th>\n",
       "      <th></th>\n",
       "      <th></th>\n",
       "      <th></th>\n",
       "      <th></th>\n",
       "      <th></th>\n",
       "      <th></th>\n",
       "      <th></th>\n",
       "      <th></th>\n",
       "      <th></th>\n",
       "      <th></th>\n",
       "      <th></th>\n",
       "      <th></th>\n",
       "      <th></th>\n",
       "      <th></th>\n",
       "      <th></th>\n",
       "      <th></th>\n",
       "      <th></th>\n",
       "      <th></th>\n",
       "      <th></th>\n",
       "      <th></th>\n",
       "      <th></th>\n",
       "      <th></th>\n",
       "      <th></th>\n",
       "      <th></th>\n",
       "      <th></th>\n",
       "      <th></th>\n",
       "      <th></th>\n",
       "      <th></th>\n",
       "      <th></th>\n",
       "      <th></th>\n",
       "      <th></th>\n",
       "    </tr>\n",
       "  </thead>\n",
       "  <tbody>\n",
       "    <tr>\n",
       "      <th>1</th>\n",
       "      <td>0</td>\n",
       "      <td>22.0</td>\n",
       "      <td>0.916454</td>\n",
       "      <td>0</td>\n",
       "      <td>0</td>\n",
       "      <td>1</td>\n",
       "      <td>0</td>\n",
       "      <td>1</td>\n",
       "      <td>0</td>\n",
       "      <td>0</td>\n",
       "      <td>1</td>\n",
       "      <td>0</td>\n",
       "      <td>1</td>\n",
       "      <td>0</td>\n",
       "      <td>0</td>\n",
       "      <td>0</td>\n",
       "      <td>1</td>\n",
       "      <td>0</td>\n",
       "      <td>0</td>\n",
       "      <td>0</td>\n",
       "      <td>0</td>\n",
       "      <td>0</td>\n",
       "      <td>1</td>\n",
       "      <td>0</td>\n",
       "      <td>0</td>\n",
       "      <td>0</td>\n",
       "      <td>0</td>\n",
       "      <td>0</td>\n",
       "      <td>0</td>\n",
       "      <td>1</td>\n",
       "      <td>0</td>\n",
       "      <td>0</td>\n",
       "      <td>0</td>\n",
       "      <td>1</td>\n",
       "      <td>0</td>\n",
       "      <td>0</td>\n",
       "    </tr>\n",
       "    <tr>\n",
       "      <th>2</th>\n",
       "      <td>1</td>\n",
       "      <td>38.0</td>\n",
       "      <td>1.859038</td>\n",
       "      <td>1</td>\n",
       "      <td>0</td>\n",
       "      <td>0</td>\n",
       "      <td>1</td>\n",
       "      <td>0</td>\n",
       "      <td>1</td>\n",
       "      <td>0</td>\n",
       "      <td>0</td>\n",
       "      <td>0</td>\n",
       "      <td>0</td>\n",
       "      <td>1</td>\n",
       "      <td>0</td>\n",
       "      <td>0</td>\n",
       "      <td>1</td>\n",
       "      <td>0</td>\n",
       "      <td>0</td>\n",
       "      <td>0</td>\n",
       "      <td>0</td>\n",
       "      <td>0</td>\n",
       "      <td>1</td>\n",
       "      <td>0</td>\n",
       "      <td>0</td>\n",
       "      <td>0</td>\n",
       "      <td>0</td>\n",
       "      <td>0</td>\n",
       "      <td>0</td>\n",
       "      <td>0</td>\n",
       "      <td>1</td>\n",
       "      <td>0</td>\n",
       "      <td>0</td>\n",
       "      <td>0</td>\n",
       "      <td>1</td>\n",
       "      <td>0</td>\n",
       "    </tr>\n",
       "    <tr>\n",
       "      <th>3</th>\n",
       "      <td>1</td>\n",
       "      <td>26.0</td>\n",
       "      <td>0.950608</td>\n",
       "      <td>0</td>\n",
       "      <td>0</td>\n",
       "      <td>1</td>\n",
       "      <td>1</td>\n",
       "      <td>0</td>\n",
       "      <td>0</td>\n",
       "      <td>0</td>\n",
       "      <td>1</td>\n",
       "      <td>0</td>\n",
       "      <td>1</td>\n",
       "      <td>0</td>\n",
       "      <td>0</td>\n",
       "      <td>0</td>\n",
       "      <td>1</td>\n",
       "      <td>0</td>\n",
       "      <td>0</td>\n",
       "      <td>0</td>\n",
       "      <td>0</td>\n",
       "      <td>1</td>\n",
       "      <td>0</td>\n",
       "      <td>0</td>\n",
       "      <td>0</td>\n",
       "      <td>0</td>\n",
       "      <td>0</td>\n",
       "      <td>0</td>\n",
       "      <td>0</td>\n",
       "      <td>1</td>\n",
       "      <td>0</td>\n",
       "      <td>0</td>\n",
       "      <td>1</td>\n",
       "      <td>0</td>\n",
       "      <td>0</td>\n",
       "      <td>0</td>\n",
       "    </tr>\n",
       "    <tr>\n",
       "      <th>4</th>\n",
       "      <td>1</td>\n",
       "      <td>35.0</td>\n",
       "      <td>1.733197</td>\n",
       "      <td>1</td>\n",
       "      <td>0</td>\n",
       "      <td>0</td>\n",
       "      <td>1</td>\n",
       "      <td>0</td>\n",
       "      <td>0</td>\n",
       "      <td>0</td>\n",
       "      <td>1</td>\n",
       "      <td>0</td>\n",
       "      <td>0</td>\n",
       "      <td>1</td>\n",
       "      <td>0</td>\n",
       "      <td>0</td>\n",
       "      <td>1</td>\n",
       "      <td>0</td>\n",
       "      <td>0</td>\n",
       "      <td>0</td>\n",
       "      <td>0</td>\n",
       "      <td>0</td>\n",
       "      <td>1</td>\n",
       "      <td>0</td>\n",
       "      <td>0</td>\n",
       "      <td>0</td>\n",
       "      <td>0</td>\n",
       "      <td>0</td>\n",
       "      <td>0</td>\n",
       "      <td>0</td>\n",
       "      <td>1</td>\n",
       "      <td>0</td>\n",
       "      <td>0</td>\n",
       "      <td>0</td>\n",
       "      <td>1</td>\n",
       "      <td>0</td>\n",
       "    </tr>\n",
       "    <tr>\n",
       "      <th>5</th>\n",
       "      <td>0</td>\n",
       "      <td>35.0</td>\n",
       "      <td>0.956649</td>\n",
       "      <td>0</td>\n",
       "      <td>0</td>\n",
       "      <td>1</td>\n",
       "      <td>0</td>\n",
       "      <td>1</td>\n",
       "      <td>0</td>\n",
       "      <td>0</td>\n",
       "      <td>1</td>\n",
       "      <td>0</td>\n",
       "      <td>0</td>\n",
       "      <td>1</td>\n",
       "      <td>0</td>\n",
       "      <td>0</td>\n",
       "      <td>1</td>\n",
       "      <td>0</td>\n",
       "      <td>0</td>\n",
       "      <td>0</td>\n",
       "      <td>0</td>\n",
       "      <td>1</td>\n",
       "      <td>0</td>\n",
       "      <td>0</td>\n",
       "      <td>0</td>\n",
       "      <td>0</td>\n",
       "      <td>0</td>\n",
       "      <td>0</td>\n",
       "      <td>0</td>\n",
       "      <td>1</td>\n",
       "      <td>0</td>\n",
       "      <td>0</td>\n",
       "      <td>0</td>\n",
       "      <td>1</td>\n",
       "      <td>0</td>\n",
       "      <td>0</td>\n",
       "    </tr>\n",
       "  </tbody>\n",
       "</table>\n",
       "</div>"
      ],
      "text/plain": [
       "             Survived   Age  ...  title_Name_Mrs  title_Name_Others\n",
       "PassengerId                  ...                                   \n",
       "1                   0  22.0  ...               0                  0\n",
       "2                   1  38.0  ...               1                  0\n",
       "3                   1  26.0  ...               0                  0\n",
       "4                   1  35.0  ...               1                  0\n",
       "5                   0  35.0  ...               0                  0\n",
       "\n",
       "[5 rows x 36 columns]"
      ]
     },
     "execution_count": 44,
     "metadata": {
      "tags": []
     },
     "output_type": "execute_result"
    }
   ],
   "source": [
    "DBtrain_f = pd.get_dummies(DBtrain_f)\n",
    "X_train = DBtrain_f.drop(columns='Survived')\n",
    "Y_train = DBtrain_f['Survived']\n",
    "DBtrain_f.head()"
   ]
  },
  {
   "cell_type": "markdown",
   "metadata": {
    "id": "s9Yfip2XNrgt"
   },
   "source": [
    "# Modeling - Improve imbalance data\n",
    "we goint to see how well BalancedBaggingClassifier, we improve the model with imbalance method training\n",
    "* 549 deads vs 342 survivors\n",
    "\n",
    "| Model  | score  | \n",
    "|---|---|\n",
    "| SVC  |    0.8488 |  \n",
    "| XGB  | 0.8724 | \n",
    "| KNC  |   0.8979|\n",
    "| RFC |    0.9344 |\n",
    "| GBC |    0.8925|\n",
    "| Voting XGB+KNC+RFC+SVC| 0.8970| \n",
    "| SKC XGB+KNC+RFC+SVC => XGB|  0.9089|"
   ]
  },
  {
   "cell_type": "code",
   "execution_count": 2,
   "metadata": {
    "colab": {
     "base_uri": "https://localhost:8080/"
    },
    "executionInfo": {
     "elapsed": 1426,
     "status": "ok",
     "timestamp": 1609893665052,
     "user": {
      "displayName": "David Castillo",
      "photoUrl": "https://lh3.googleusercontent.com/a-/AOh14Gg5XtOH3psM7ovC3D5p28SlHs4XVyU8gb-DXTurmF8=s64",
      "userId": "09801156893445499453"
     },
     "user_tz": 300
    },
    "id": "i7Jdty9BNrgt",
    "outputId": "4ded2f0e-65a4-460d-80b1-20359c8687eb"
   },
   "outputs": [
    {
     "name": "stderr",
     "output_type": "stream",
     "text": [
      "In C:\\Users\\David\\AppData\\Local\\Programs\\Python\\Python37\\lib\\site-packages\\matplotlib\\mpl-data\\stylelib\\_classic_test.mplstyle: \n",
      "The text.latex.preview rcparam was deprecated in Matplotlib 3.3 and will be removed two minor releases later.\n",
      "In C:\\Users\\David\\AppData\\Local\\Programs\\Python\\Python37\\lib\\site-packages\\matplotlib\\mpl-data\\stylelib\\_classic_test.mplstyle: \n",
      "The mathtext.fallback_to_cm rcparam was deprecated in Matplotlib 3.3 and will be removed two minor releases later.\n",
      "In C:\\Users\\David\\AppData\\Local\\Programs\\Python\\Python37\\lib\\site-packages\\matplotlib\\mpl-data\\stylelib\\_classic_test.mplstyle: Support for setting the 'mathtext.fallback_to_cm' rcParam is deprecated since 3.3 and will be removed two minor releases later; use 'mathtext.fallback : 'cm' instead.\n",
      "In C:\\Users\\David\\AppData\\Local\\Programs\\Python\\Python37\\lib\\site-packages\\matplotlib\\mpl-data\\stylelib\\_classic_test.mplstyle: \n",
      "The validate_bool_maybe_none function was deprecated in Matplotlib 3.3 and will be removed two minor releases later.\n",
      "In C:\\Users\\David\\AppData\\Local\\Programs\\Python\\Python37\\lib\\site-packages\\matplotlib\\mpl-data\\stylelib\\_classic_test.mplstyle: \n",
      "The savefig.jpeg_quality rcparam was deprecated in Matplotlib 3.3 and will be removed two minor releases later.\n",
      "In C:\\Users\\David\\AppData\\Local\\Programs\\Python\\Python37\\lib\\site-packages\\matplotlib\\mpl-data\\stylelib\\_classic_test.mplstyle: \n",
      "The keymap.all_axes rcparam was deprecated in Matplotlib 3.3 and will be removed two minor releases later.\n",
      "In C:\\Users\\David\\AppData\\Local\\Programs\\Python\\Python37\\lib\\site-packages\\matplotlib\\mpl-data\\stylelib\\_classic_test.mplstyle: \n",
      "The animation.avconv_path rcparam was deprecated in Matplotlib 3.3 and will be removed two minor releases later.\n",
      "In C:\\Users\\David\\AppData\\Local\\Programs\\Python\\Python37\\lib\\site-packages\\matplotlib\\mpl-data\\stylelib\\_classic_test.mplstyle: \n",
      "The animation.avconv_args rcparam was deprecated in Matplotlib 3.3 and will be removed two minor releases later.\n"
     ]
    },
    {
     "name": "stdout",
     "output_type": "stream",
     "text": [
      "<class 'pandas.core.frame.DataFrame'>\n",
      "Int64Index: 891 entries, 1 to 891\n",
      "Data columns (total 9 columns):\n",
      " #   Column       Non-Null Count  Dtype  \n",
      "---  ------       --------------  -----  \n",
      " 0   Survived     891 non-null    int64  \n",
      " 1   Pclass       891 non-null    object \n",
      " 2   Sex          891 non-null    int64  \n",
      " 3   Embarked     891 non-null    object \n",
      " 4   accompanied  891 non-null    object \n",
      " 5   b_Cabin      891 non-null    int64  \n",
      " 6   title_Name   891 non-null    object \n",
      " 7   norm_Fare    891 non-null    float64\n",
      " 8   norm_Age     891 non-null    float64\n",
      "dtypes: float64(2), int64(3), object(4)\n",
      "memory usage: 69.6+ KB\n",
      "Count for each class value after SMOTE: Counter({0: 549, 1: 549})\n"
     ]
    }
   ],
   "source": [
    "from process_data import pre_process_dataset, balancingClasses_Smoteenn, balancingClasses_Smote\n",
    "X_train_all, Y_train_all = pre_process_dataset(all_categorical=False, Test=False, fillna_age = None)\n",
    "X_train_all, Y_train_all = balancingClasses_Smote(X_train_all, Y_train_all ,random_state=12)"
   ]
  },
  {
   "cell_type": "markdown",
   "metadata": {
    "id": "TZ2PA3GUNrgu"
   },
   "source": [
    "## Parameter Optimization"
   ]
  },
  {
   "cell_type": "code",
   "execution_count": 3,
   "metadata": {
    "executionInfo": {
     "elapsed": 709,
     "status": "ok",
     "timestamp": 1609893749019,
     "user": {
      "displayName": "David Castillo",
      "photoUrl": "https://lh3.googleusercontent.com/a-/AOh14Gg5XtOH3psM7ovC3D5p28SlHs4XVyU8gb-DXTurmF8=s64",
      "userId": "09801156893445499453"
     },
     "user_tz": 300
    },
    "id": "9UzeThIwFYs8"
   },
   "outputs": [],
   "source": [
    "from xgboost.sklearn import XGBClassifier\r\n",
    "from sklearn.model_selection import train_test_split, GridSearchCV , RandomizedSearchCV,StratifiedKFold\r\n",
    "#from imblearn.ensemble import BalancedBaggingClassifier\r\n",
    "from sklearn.ensemble import RandomForestClassifier, VotingClassifier,AdaBoostClassifier,GradientBoostingClassifier,BaggingClassifier,ExtraTreesClassifier, StackingClassifier\r\n",
    "from sklearn.model_selection import StratifiedKFold, KFold,cross_val_score\r\n",
    "from sklearn.gaussian_process.kernels import RBF\r\n",
    "from sklearn.metrics import accuracy_score,confusion_matrix\r\n",
    "#from sklearn import svm\r\n",
    "from sklearn.svm import LinearSVC, SVC\r\n",
    "from sklearn.linear_model import SGDClassifier\r\n",
    "from sklearn.linear_model import LogisticRegression as LR\r\n",
    "from sklearn.decomposition import PCA\r\n",
    "#from sklearn.neighbors import NeighborhoodComponentsAnalysis as NCA\r\n",
    "from sklearn.neighbors import KNeighborsClassifier as KNC\r\n",
    "from collections import defaultdict\r\n",
    "from sklearn.metrics import classification_report\r\n",
    "\r\n",
    "from sklearn.model_selection import KFold\r\n",
    "from sklearn.impute import SimpleImputer\r\n",
    "from sklearn.model_selection import train_test_split\r\n",
    "from sklearn.pipeline import Pipeline\r\n",
    "best_parameters = defaultdict(list) # 'xgb': XGBClassifier(),\r\n",
    "classifiers = defaultdict(list)\r\n",
    "X_train, X_test, y_train, y_test = train_test_split(X_train_all, Y_train_all, test_size=0.2, random_state=133, stratify = Y_train_all)"
   ]
  },
  {
   "cell_type": "code",
   "execution_count": null,
   "metadata": {},
   "outputs": [
    {
     "name": "stdout",
     "output_type": "stream",
     "text": [
      "######### MODEL tunning hyper-parameters for svc\n",
      "# svc - Tuning hyper-parameters ###############################################################\n"
     ]
    }
   ],
   "source": [
    "skf = StratifiedKFold(n_splits=5, shuffle=True)\n",
    "# Parameters to tune\n",
    "# SVC_simple\n",
    "tuned_parameters_svc = [{'kernel': ['rbf'], 'gamma': [1e-3, 1e-4, 'auto','scale'],'C': [1, 10, 100, 1000], 'probability': [True]},\n",
    "                    {'kernel': ['linear'], 'C': [1, 10, 100, 1000], 'probability': [True]}]\n",
    "\n",
    "# SVC\n",
    "tuned_parameters_Linearsvc = [{'penalty': ['l2','l1'], 'loss': ['squared_hinge','hinge'],'C': [0.01,0.1,1.0,10], 'max_iter': [4000], 'random_state':[15], 'dual':[False]}]\n",
    "\n",
    "# XGB\n",
    "tuned_parameters_xgb = [{'learning_rate':[.2, 0.1, 0.02, 0.01],'n_estimators':[10,50,80,100,150,200],'min_child_weight':[0.1, 0.5, 1.0, 1.5],'subsample':[0.1, 0.5, 0.8, 1.0],'colsample_bytree':[0.5, 0.1, 0.2, 0.8, 1.0],\n",
    "                    'objective':['multi:softmax','binary:logistic'],'n_jobs':[-1],'max_depth': [3,5,6,8,10,12] , 'gamma': [0.0, .1, .2, .3, .4, .5, 1.0]}]\n",
    "#KNC\n",
    "tuned_parameters_knc = [{'n_neighbors':[2,4,6,8,10,12],'n_jobs':[-1],'algorithm':['auto', 'ball_tree', 'kd_tree', 'brute'],'p':[1,2]}]\n",
    "\n",
    "#RFC\n",
    "tuned_parameters_rfc = [{'n_estimators':[80,100,120,140,160],'criterion':['gini','entropy'],'min_samples_split':[1,2,3,4,5], 'max_depth':[3,5,8,10]}]\n",
    "\n",
    "#GBC\n",
    "tuned_parameters_gbc = [{'loss':['deviance','exponential'],'learning_rate':[0.1,0.01],'n_estimators':[80,100,120],'subsample':[.8,1.0],'criterion':[ 'mse','friedman_mse'],\n",
    "                         'max_depth':[3,5,8,10]}]\n",
    "\n",
    "#ETC\n",
    "tuned_parameters_etc = [{ 'min_samples_split':[.2,.4,.8], 'n_estimators':[80,100,150],'warm_start':[True],'bootstrap':[True],'max_depth':[3,5,8,10],\n",
    "                         'n_jobs':[-1], 'min_samples_leaf':[3,4,5,6] ,'criterion':['gini', 'entropy'],'max_features':[ 'sqrt']   }]\n",
    "\n",
    "#LR\n",
    "tuned_parameters_lr = [{'C':[0.1,1.0,10.0], 'dual':[False], 'solver':['newton-cg', 'saga','sag'],'multi_class':['ovr', 'multinomial']}]\n",
    "\n",
    "# Parameter tunning\n",
    "scores = {'f1': 'f1_macro', 'roc':'roc_auc_ovr' , 'prec': 'precision'}\n",
    "\n",
    "# Best parameters\n",
    "\n",
    "models = {'svc': SVC(), 'lr': LR(random_state=17), 'xgb': XGBClassifier(), 'rfc':RandomForestClassifier(), 'knc': KNC(),'etc':ExtraTreesClassifier() ,'gbc':GradientBoostingClassifier() }\n",
    "parameters = {'lr':tuned_parameters_lr, 'xgb': tuned_parameters_xgb, 'knc': tuned_parameters_knc,'rfc':tuned_parameters_rfc, 'svc':tuned_parameters_svc, 'gbc':tuned_parameters_gbc, 'etc':tuned_parameters_etc }\n",
    "\n",
    "#;ista = ['etc']\n",
    "for model_name in models.keys():\n",
    "    print(\"######### MODEL tunning hyper-parameters for %s\" % model_name)\n",
    "    print(\"# %s - Tuning hyper-parameters ###############################################################\" % (model_name))\n",
    "    clf_i = GridSearchCV(models[model_name], parameters[model_name], scoring=scores, refit = \"f1\"  , n_jobs=-1, cv=skf)\n",
    "    clf_i.fit(X_train,y_train)\n",
    "    print(\"Best parameters set found on development set:\")\n",
    "    print()\n",
    "    print(clf_i.best_params_)\n",
    "    best_parameters[model_name] = clf_i.best_params_\n",
    "    classifiers[model_name] = clf_i\n",
    "    print(\"Grid scores on development set:\")\n",
    "    print()\n",
    "    means = clf_i.cv_results_[\"mean_test_prec\"]\n",
    "    # stds = clf_i.cv_results_['std_test_score']\n",
    "#         for mean, std, params in zip(means, stds, clf_i.cv_results_['params']):\n",
    "#             print(\"%s_macro - %0.3f (+/-%0.03f) for %r\"% (score, mean, std * 2, params))\n",
    "    print(\"Detailed classification report:\")\n",
    "    print(\"CV - Results max score: {}\".format(np.nan_to_num( means).max()))\n",
    "    print()\n",
    "    y_true, y_pred = y_test, clf_i.predict(X_test)\n",
    "    print(classification_report(y_true, y_pred, digits=4 ))"
   ]
  },
  {
   "cell_type": "markdown",
   "metadata": {
    "id": "s1IJuA5VNrgv"
   },
   "source": [
    "* BaggingClassifier"
   ]
  },
  {
   "cell_type": "markdown",
   "metadata": {
    "id": "FAWD-MrZNrgx"
   },
   "source": [
    "# Test perform\n",
    "The test data contain Nans so, what i did was impute values, using the media, taking in consideration, Pclass, sex and Embarked\n",
    "* Method below\n",
    "* I create the file process_data.py where is the steps that i use for process all the test_Data"
   ]
  },
  {
   "cell_type": "markdown",
   "metadata": {
    "id": "V2b3ods-Nrgx"
   },
   "source": [
    "* Preprocessing Test data to submmit"
   ]
  },
  {
   "cell_type": "code",
   "execution_count": 6,
   "metadata": {
    "colab": {
     "base_uri": "https://localhost:8080/"
    },
    "executionInfo": {
     "elapsed": 1271,
     "status": "ok",
     "timestamp": 1609891563677,
     "user": {
      "displayName": "David Castillo",
      "photoUrl": "https://lh3.googleusercontent.com/a-/AOh14Gg5XtOH3psM7ovC3D5p28SlHs4XVyU8gb-DXTurmF8=s64",
      "userId": "09801156893445499453"
     },
     "user_tz": 300
    },
    "id": "kE0DYu54Nrgx",
    "outputId": "81cbbb48-075e-4f7d-bf30-30ab4cb04674"
   },
   "outputs": [
    {
     "name": "stdout",
     "output_type": "stream",
     "text": [
      "<class 'pandas.core.frame.DataFrame'>\n",
      "Int64Index: 418 entries, 892 to 1309\n",
      "Data columns (total 8 columns):\n",
      " #   Column       Non-Null Count  Dtype  \n",
      "---  ------       --------------  -----  \n",
      " 0   Pclass       418 non-null    object \n",
      " 1   Sex          418 non-null    int64  \n",
      " 2   Embarked     418 non-null    object \n",
      " 3   accompanied  418 non-null    object \n",
      " 4   b_Cabin      418 non-null    int64  \n",
      " 5   title_Name   418 non-null    object \n",
      " 6   norm_Fare    418 non-null    float64\n",
      " 7   norm_Age     418 non-null    float64\n",
      "dtypes: float64(2), int64(2), object(4)\n",
      "memory usage: 29.4+ KB\n"
     ]
    }
   ],
   "source": [
    "#from process_data import pre_process_dataset\n",
    "X_test, X_test_origin = pre_process_dataset(all_categorical=False, Test=True, fillna_age = None)"
   ]
  },
  {
   "cell_type": "code",
   "execution_count": 8,
   "metadata": {
    "colab": {
     "base_uri": "https://localhost:8080/"
    },
    "executionInfo": {
     "elapsed": 769,
     "status": "ok",
     "timestamp": 1609891709182,
     "user": {
      "displayName": "David Castillo",
      "photoUrl": "https://lh3.googleusercontent.com/a-/AOh14Gg5XtOH3psM7ovC3D5p28SlHs4XVyU8gb-DXTurmF8=s64",
      "userId": "09801156893445499453"
     },
     "user_tz": 300
    },
    "id": "Qs7kVGL1AmxJ",
    "outputId": "6ce205b3-f140-4a8e-f979-b368ab52179e"
   },
   "outputs": [
    {
     "name": "stdout",
     "output_type": "stream",
     "text": [
      "<class 'pandas.core.frame.DataFrame'>\n",
      "Int64Index: 418 entries, 892 to 1309\n",
      "Data columns (total 23 columns):\n",
      " #   Column             Non-Null Count  Dtype  \n",
      "---  ------             --------------  -----  \n",
      " 0   Sex                418 non-null    int64  \n",
      " 1   b_Cabin            418 non-null    int64  \n",
      " 2   norm_Fare          418 non-null    float64\n",
      " 3   norm_Age           418 non-null    float64\n",
      " 4   Pclass_1           418 non-null    uint8  \n",
      " 5   Pclass_2           418 non-null    uint8  \n",
      " 6   Pclass_3           418 non-null    uint8  \n",
      " 7   Embarked_C         418 non-null    uint8  \n",
      " 8   Embarked_Q         418 non-null    uint8  \n",
      " 9   Embarked_S         418 non-null    uint8  \n",
      " 10  accompanied_0      418 non-null    uint8  \n",
      " 11  accompanied_1      418 non-null    uint8  \n",
      " 12  accompanied_2      418 non-null    uint8  \n",
      " 13  accompanied_3      418 non-null    uint8  \n",
      " 14  accompanied_4      418 non-null    uint8  \n",
      " 15  accompanied_5      418 non-null    uint8  \n",
      " 16  accompanied_6      418 non-null    uint8  \n",
      " 17  accompanied_nn     418 non-null    uint8  \n",
      " 18  title_Name_Master  418 non-null    uint8  \n",
      " 19  title_Name_Miss    418 non-null    uint8  \n",
      " 20  title_Name_Mr      418 non-null    uint8  \n",
      " 21  title_Name_Mrs     418 non-null    uint8  \n",
      " 22  title_Name_Others  418 non-null    uint8  \n",
      "dtypes: float64(2), int64(2), uint8(19)\n",
      "memory usage: 24.1 KB\n"
     ]
    }
   ],
   "source": [
    "X_test.info()"
   ]
  },
  {
   "cell_type": "code",
   "execution_count": null,
   "metadata": {
    "id": "kcjJTO7ANrgy"
   },
   "outputs": [],
   "source": [
    "estmt = model_VC_hard.estimators\n",
    "y_predict_xgb = estmt[0][1].predict(X_test)\n",
    "y_predict_knc = estmt[1][1].predict(X_test)\n",
    "y_predict_rfc = estmt[2][1].predict(X_test)\n",
    "y_predict_svc = estmt[3][1].predict(X_test)\n",
    "y_predict_vc = model_VC.predict(X_test)\n",
    "\n",
    "y_predict_skc = model_SKC.predict(X_test)"
   ]
  },
  {
   "cell_type": "code",
   "execution_count": null,
   "metadata": {
    "id": "eBmN8tP_Nrgy",
    "outputId": "fbb10d3d-f862-4afb-c0eb-1499acc78a32"
   },
   "outputs": [
    {
     "name": "stdout",
     "output_type": "stream",
     "text": [
      "CLASSIF test: equal:0.916267942583732\n"
     ]
    }
   ],
   "source": [
    "print(\"CLASSIF test: equal:\"+ str(accuracy_score(y_predict_svc, y_predict_skc)))"
   ]
  },
  {
   "cell_type": "code",
   "execution_count": null,
   "metadata": {
    "id": "mzP3MVezNrgy"
   },
   "outputs": [],
   "source": [
    "submission_file = pd.DataFrame({ 'PassengerId':np.stack(X_test.index.tolist()),'Survived': y_predict_vc})\n",
    "submission_file.to_csv('submission/submm_vc7.csv',index=False, )\n",
    "submission_file = pd.DataFrame({ 'PassengerId':np.stack(X_test.index.tolist()),'Survived': y_predict_xgb})\n",
    "submission_file.to_csv('submission/submm_xgb7.csv',index=False, )\n",
    "submission_file = pd.DataFrame({ 'PassengerId':np.stack(X_test.index.tolist()),'Survived': y_predict_knc})\n",
    "submission_file.to_csv('submission/submm_knc7.csv',index=False, )\n",
    "submission_file = pd.DataFrame({ 'PassengerId':np.stack(X_test.index.tolist()),'Survived': y_predict_svc})\n",
    "submission_file.to_csv('submission/submm_svc7.csv',index=False, )\n",
    "submission_file = pd.DataFrame({ 'PassengerId':np.stack(X_test.index.tolist()),'Survived': y_predict_rfc})\n",
    "submission_file.to_csv('submission/submm_rfc7.csv',index=False, )\n",
    "\n",
    "submission_file = pd.DataFrame({ 'PassengerId':np.stack(X_test.index.tolist()),'Survived': y_predict_skc})\n",
    "submission_file.to_csv('submission/submm_skc.csv',index=False, )"
   ]
  },
  {
   "cell_type": "code",
   "execution_count": null,
   "metadata": {
    "id": "2NuezG7qNrgy"
   },
   "outputs": [],
   "source": []
  }
 ],
 "metadata": {
  "colab": {
   "name": "titanic_study.ipynb",
   "provenance": []
  },
  "kernelspec": {
   "display_name": "Python 3.7.4 64-bit",
   "language": "python",
   "name": "python37464bit6ea9d59176c94d2aba530003a360c2f8"
  },
  "language_info": {
   "codemirror_mode": {
    "name": "ipython",
    "version": 3
   },
   "file_extension": ".py",
   "mimetype": "text/x-python",
   "name": "python",
   "nbconvert_exporter": "python",
   "pygments_lexer": "ipython3",
   "version": "3.7.4"
  }
 },
 "nbformat": 4,
 "nbformat_minor": 4
}
